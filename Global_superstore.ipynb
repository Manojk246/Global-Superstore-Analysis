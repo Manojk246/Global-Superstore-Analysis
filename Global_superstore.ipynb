{
  "cells": [
    {
      "cell_type": "code",
      "execution_count": 6,
      "metadata": {
        "id": "txIhuXNg9q8N"
      },
      "outputs": [],
      "source": [
        "import pandas as pd\n",
        "import numpy as np\n",
        "import matplotlib.pyplot as plt\n",
        "import seaborn as sns"
      ]
    },
    {
      "cell_type": "markdown",
      "metadata": {
        "id": "3yYMijBS-JJa"
      },
      "source": [
        "Part 1"
      ]
    },
    {
      "cell_type": "code",
      "execution_count": 7,
      "metadata": {
        "colab": {
          "base_uri": "https://localhost:8080/",
          "height": 947
        },
        "id": "z75L5NTh-IHN",
        "outputId": "da9dea1c-a4f7-4d91-ef4e-e755c85efd98"
      },
      "outputs": [
        {
          "data": {
            "text/html": [
              "<div>\n",
              "<style scoped>\n",
              "    .dataframe tbody tr th:only-of-type {\n",
              "        vertical-align: middle;\n",
              "    }\n",
              "\n",
              "    .dataframe tbody tr th {\n",
              "        vertical-align: top;\n",
              "    }\n",
              "\n",
              "    .dataframe thead th {\n",
              "        text-align: right;\n",
              "    }\n",
              "</style>\n",
              "<table border=\"1\" class=\"dataframe\">\n",
              "  <thead>\n",
              "    <tr style=\"text-align: right;\">\n",
              "      <th></th>\n",
              "      <th>Row ID</th>\n",
              "      <th>Order ID</th>\n",
              "      <th>Order Date</th>\n",
              "      <th>Ship Date</th>\n",
              "      <th>Ship Mode</th>\n",
              "      <th>Customer ID</th>\n",
              "      <th>Customer Name</th>\n",
              "      <th>Segment</th>\n",
              "      <th>Postal Code</th>\n",
              "      <th>City</th>\n",
              "      <th>...</th>\n",
              "      <th>Product ID</th>\n",
              "      <th>Category</th>\n",
              "      <th>Sub-Category</th>\n",
              "      <th>Product Name</th>\n",
              "      <th>Sales</th>\n",
              "      <th>Quantity</th>\n",
              "      <th>Discount</th>\n",
              "      <th>Profit</th>\n",
              "      <th>Shipping Cost</th>\n",
              "      <th>Order Priority</th>\n",
              "    </tr>\n",
              "  </thead>\n",
              "  <tbody>\n",
              "    <tr>\n",
              "      <th>0</th>\n",
              "      <td>40098</td>\n",
              "      <td>CA-2014-AB10015140-41954</td>\n",
              "      <td>2014-11-11</td>\n",
              "      <td>2014-11-13</td>\n",
              "      <td>First Class</td>\n",
              "      <td>AB-100151402</td>\n",
              "      <td>Aaron Bergman</td>\n",
              "      <td>Consumer</td>\n",
              "      <td>73120.0</td>\n",
              "      <td>Oklahoma City</td>\n",
              "      <td>...</td>\n",
              "      <td>TEC-PH-5816</td>\n",
              "      <td>Technology</td>\n",
              "      <td>Phones</td>\n",
              "      <td>Samsung Convoy 3</td>\n",
              "      <td>221.980</td>\n",
              "      <td>2</td>\n",
              "      <td>0.0</td>\n",
              "      <td>62.1544</td>\n",
              "      <td>40.770</td>\n",
              "      <td>High</td>\n",
              "    </tr>\n",
              "    <tr>\n",
              "      <th>1</th>\n",
              "      <td>26341</td>\n",
              "      <td>IN-2014-JR162107-41675</td>\n",
              "      <td>2014-02-05</td>\n",
              "      <td>2014-02-07</td>\n",
              "      <td>Second Class</td>\n",
              "      <td>JR-162107</td>\n",
              "      <td>Justin Ritter</td>\n",
              "      <td>Corporate</td>\n",
              "      <td>NaN</td>\n",
              "      <td>Wollongong</td>\n",
              "      <td>...</td>\n",
              "      <td>FUR-CH-5379</td>\n",
              "      <td>Furniture</td>\n",
              "      <td>Chairs</td>\n",
              "      <td>Novimex Executive Leather Armchair, Black</td>\n",
              "      <td>3709.395</td>\n",
              "      <td>9</td>\n",
              "      <td>0.1</td>\n",
              "      <td>-288.7650</td>\n",
              "      <td>923.630</td>\n",
              "      <td>Critical</td>\n",
              "    </tr>\n",
              "    <tr>\n",
              "      <th>2</th>\n",
              "      <td>25330</td>\n",
              "      <td>IN-2014-CR127307-41929</td>\n",
              "      <td>2014-10-17</td>\n",
              "      <td>2014-10-18</td>\n",
              "      <td>First Class</td>\n",
              "      <td>CR-127307</td>\n",
              "      <td>Craig Reiter</td>\n",
              "      <td>Consumer</td>\n",
              "      <td>NaN</td>\n",
              "      <td>Brisbane</td>\n",
              "      <td>...</td>\n",
              "      <td>TEC-PH-5356</td>\n",
              "      <td>Technology</td>\n",
              "      <td>Phones</td>\n",
              "      <td>Nokia Smart Phone, with Caller ID</td>\n",
              "      <td>5175.171</td>\n",
              "      <td>9</td>\n",
              "      <td>0.1</td>\n",
              "      <td>919.9710</td>\n",
              "      <td>915.490</td>\n",
              "      <td>Medium</td>\n",
              "    </tr>\n",
              "    <tr>\n",
              "      <th>3</th>\n",
              "      <td>13524</td>\n",
              "      <td>ES-2014-KM1637548-41667</td>\n",
              "      <td>2014-01-28</td>\n",
              "      <td>2014-01-30</td>\n",
              "      <td>First Class</td>\n",
              "      <td>KM-1637548</td>\n",
              "      <td>Katherine Murray</td>\n",
              "      <td>Home Office</td>\n",
              "      <td>NaN</td>\n",
              "      <td>Berlin</td>\n",
              "      <td>...</td>\n",
              "      <td>TEC-PH-5267</td>\n",
              "      <td>Technology</td>\n",
              "      <td>Phones</td>\n",
              "      <td>Motorola Smart Phone, Cordless</td>\n",
              "      <td>2892.510</td>\n",
              "      <td>5</td>\n",
              "      <td>0.1</td>\n",
              "      <td>-96.5400</td>\n",
              "      <td>910.160</td>\n",
              "      <td>Medium</td>\n",
              "    </tr>\n",
              "    <tr>\n",
              "      <th>4</th>\n",
              "      <td>47221</td>\n",
              "      <td>SG-2014-RH9495111-41948</td>\n",
              "      <td>2014-11-05</td>\n",
              "      <td>2014-11-06</td>\n",
              "      <td>Same Day</td>\n",
              "      <td>RH-9495111</td>\n",
              "      <td>Rick Hansen</td>\n",
              "      <td>Consumer</td>\n",
              "      <td>NaN</td>\n",
              "      <td>Dakar</td>\n",
              "      <td>...</td>\n",
              "      <td>TEC-CO-6011</td>\n",
              "      <td>Technology</td>\n",
              "      <td>Copiers</td>\n",
              "      <td>Sharp Wireless Fax, High-Speed</td>\n",
              "      <td>2832.960</td>\n",
              "      <td>8</td>\n",
              "      <td>0.0</td>\n",
              "      <td>311.5200</td>\n",
              "      <td>903.040</td>\n",
              "      <td>Critical</td>\n",
              "    </tr>\n",
              "    <tr>\n",
              "      <th>...</th>\n",
              "      <td>...</td>\n",
              "      <td>...</td>\n",
              "      <td>...</td>\n",
              "      <td>...</td>\n",
              "      <td>...</td>\n",
              "      <td>...</td>\n",
              "      <td>...</td>\n",
              "      <td>...</td>\n",
              "      <td>...</td>\n",
              "      <td>...</td>\n",
              "      <td>...</td>\n",
              "      <td>...</td>\n",
              "      <td>...</td>\n",
              "      <td>...</td>\n",
              "      <td>...</td>\n",
              "      <td>...</td>\n",
              "      <td>...</td>\n",
              "      <td>...</td>\n",
              "      <td>...</td>\n",
              "      <td>...</td>\n",
              "      <td>...</td>\n",
              "    </tr>\n",
              "    <tr>\n",
              "      <th>51285</th>\n",
              "      <td>29002</td>\n",
              "      <td>IN-2015-KE1642066-42174</td>\n",
              "      <td>2015-06-19</td>\n",
              "      <td>2015-06-19</td>\n",
              "      <td>Same Day</td>\n",
              "      <td>KE-1642066</td>\n",
              "      <td>Katrina Edelman</td>\n",
              "      <td>Corporate</td>\n",
              "      <td>NaN</td>\n",
              "      <td>Kure</td>\n",
              "      <td>...</td>\n",
              "      <td>OFF-FA-3072</td>\n",
              "      <td>Office Supplies</td>\n",
              "      <td>Fasteners</td>\n",
              "      <td>Advantus Thumb Tacks, 12 Pack</td>\n",
              "      <td>65.100</td>\n",
              "      <td>5</td>\n",
              "      <td>0.0</td>\n",
              "      <td>4.5000</td>\n",
              "      <td>1.010</td>\n",
              "      <td>Medium</td>\n",
              "    </tr>\n",
              "    <tr>\n",
              "      <th>51286</th>\n",
              "      <td>34337</td>\n",
              "      <td>US-2014-ZD21925140-41765</td>\n",
              "      <td>2014-05-06</td>\n",
              "      <td>2014-05-10</td>\n",
              "      <td>Standard Class</td>\n",
              "      <td>ZD-219251408</td>\n",
              "      <td>Zuschuss Donatelli</td>\n",
              "      <td>Consumer</td>\n",
              "      <td>37421.0</td>\n",
              "      <td>Chattanooga</td>\n",
              "      <td>...</td>\n",
              "      <td>FUR-FU-4070</td>\n",
              "      <td>Furniture</td>\n",
              "      <td>Furnishings</td>\n",
              "      <td>Eldon Image Series Desk Accessories, Burgundy</td>\n",
              "      <td>16.720</td>\n",
              "      <td>5</td>\n",
              "      <td>0.2</td>\n",
              "      <td>3.3440</td>\n",
              "      <td>1.930</td>\n",
              "      <td>High</td>\n",
              "    </tr>\n",
              "    <tr>\n",
              "      <th>51287</th>\n",
              "      <td>31315</td>\n",
              "      <td>CA-2012-ZD21925140-41147</td>\n",
              "      <td>2012-08-26</td>\n",
              "      <td>2012-08-31</td>\n",
              "      <td>Second Class</td>\n",
              "      <td>ZD-219251404</td>\n",
              "      <td>Zuschuss Donatelli</td>\n",
              "      <td>Consumer</td>\n",
              "      <td>94109.0</td>\n",
              "      <td>San Francisco</td>\n",
              "      <td>...</td>\n",
              "      <td>OFF-AR-5321</td>\n",
              "      <td>Office Supplies</td>\n",
              "      <td>Art</td>\n",
              "      <td>Newell 341</td>\n",
              "      <td>8.560</td>\n",
              "      <td>2</td>\n",
              "      <td>0.0</td>\n",
              "      <td>2.4824</td>\n",
              "      <td>1.580</td>\n",
              "      <td>High</td>\n",
              "    </tr>\n",
              "    <tr>\n",
              "      <th>51288</th>\n",
              "      <td>9596</td>\n",
              "      <td>MX-2013-RB1979518-41322</td>\n",
              "      <td>2013-02-17</td>\n",
              "      <td>2013-02-21</td>\n",
              "      <td>Standard Class</td>\n",
              "      <td>RB-1979518</td>\n",
              "      <td>Ross Baird</td>\n",
              "      <td>Home Office</td>\n",
              "      <td>NaN</td>\n",
              "      <td>Valinhos</td>\n",
              "      <td>...</td>\n",
              "      <td>OFF-BI-2919</td>\n",
              "      <td>Office Supplies</td>\n",
              "      <td>Binders</td>\n",
              "      <td>Acco Index Tab, Economy</td>\n",
              "      <td>13.440</td>\n",
              "      <td>2</td>\n",
              "      <td>0.0</td>\n",
              "      <td>2.4000</td>\n",
              "      <td>1.003</td>\n",
              "      <td>Medium</td>\n",
              "    </tr>\n",
              "    <tr>\n",
              "      <th>51289</th>\n",
              "      <td>6147</td>\n",
              "      <td>MX-2013-MC1810093-41416</td>\n",
              "      <td>2013-05-22</td>\n",
              "      <td>2013-05-26</td>\n",
              "      <td>Second Class</td>\n",
              "      <td>MC-1810093</td>\n",
              "      <td>Mick Crebagga</td>\n",
              "      <td>Consumer</td>\n",
              "      <td>NaN</td>\n",
              "      <td>Tipitapa</td>\n",
              "      <td>...</td>\n",
              "      <td>OFF-PA-3990</td>\n",
              "      <td>Office Supplies</td>\n",
              "      <td>Paper</td>\n",
              "      <td>Eaton Computer Printout Paper, 8.5 x 11</td>\n",
              "      <td>61.380</td>\n",
              "      <td>3</td>\n",
              "      <td>0.0</td>\n",
              "      <td>1.8000</td>\n",
              "      <td>1.002</td>\n",
              "      <td>High</td>\n",
              "    </tr>\n",
              "  </tbody>\n",
              "</table>\n",
              "<p>51290 rows × 24 columns</p>\n",
              "</div>"
            ],
            "text/plain": [
              "       Row ID                  Order ID Order Date  Ship Date       Ship Mode  \\\n",
              "0       40098  CA-2014-AB10015140-41954 2014-11-11 2014-11-13     First Class   \n",
              "1       26341    IN-2014-JR162107-41675 2014-02-05 2014-02-07    Second Class   \n",
              "2       25330    IN-2014-CR127307-41929 2014-10-17 2014-10-18     First Class   \n",
              "3       13524   ES-2014-KM1637548-41667 2014-01-28 2014-01-30     First Class   \n",
              "4       47221   SG-2014-RH9495111-41948 2014-11-05 2014-11-06        Same Day   \n",
              "...       ...                       ...        ...        ...             ...   \n",
              "51285   29002   IN-2015-KE1642066-42174 2015-06-19 2015-06-19        Same Day   \n",
              "51286   34337  US-2014-ZD21925140-41765 2014-05-06 2014-05-10  Standard Class   \n",
              "51287   31315  CA-2012-ZD21925140-41147 2012-08-26 2012-08-31    Second Class   \n",
              "51288    9596   MX-2013-RB1979518-41322 2013-02-17 2013-02-21  Standard Class   \n",
              "51289    6147   MX-2013-MC1810093-41416 2013-05-22 2013-05-26    Second Class   \n",
              "\n",
              "        Customer ID       Customer Name      Segment  Postal Code  \\\n",
              "0      AB-100151402       Aaron Bergman     Consumer      73120.0   \n",
              "1         JR-162107       Justin Ritter    Corporate          NaN   \n",
              "2         CR-127307        Craig Reiter     Consumer          NaN   \n",
              "3        KM-1637548    Katherine Murray  Home Office          NaN   \n",
              "4        RH-9495111         Rick Hansen     Consumer          NaN   \n",
              "...             ...                 ...          ...          ...   \n",
              "51285    KE-1642066     Katrina Edelman    Corporate          NaN   \n",
              "51286  ZD-219251408  Zuschuss Donatelli     Consumer      37421.0   \n",
              "51287  ZD-219251404  Zuschuss Donatelli     Consumer      94109.0   \n",
              "51288    RB-1979518          Ross Baird  Home Office          NaN   \n",
              "51289    MC-1810093       Mick Crebagga     Consumer          NaN   \n",
              "\n",
              "                City  ...   Product ID         Category Sub-Category  \\\n",
              "0      Oklahoma City  ...  TEC-PH-5816       Technology       Phones   \n",
              "1         Wollongong  ...  FUR-CH-5379        Furniture       Chairs   \n",
              "2           Brisbane  ...  TEC-PH-5356       Technology       Phones   \n",
              "3             Berlin  ...  TEC-PH-5267       Technology       Phones   \n",
              "4              Dakar  ...  TEC-CO-6011       Technology      Copiers   \n",
              "...              ...  ...          ...              ...          ...   \n",
              "51285           Kure  ...  OFF-FA-3072  Office Supplies    Fasteners   \n",
              "51286    Chattanooga  ...  FUR-FU-4070        Furniture  Furnishings   \n",
              "51287  San Francisco  ...  OFF-AR-5321  Office Supplies          Art   \n",
              "51288       Valinhos  ...  OFF-BI-2919  Office Supplies      Binders   \n",
              "51289       Tipitapa  ...  OFF-PA-3990  Office Supplies        Paper   \n",
              "\n",
              "                                        Product Name     Sales Quantity  \\\n",
              "0                                   Samsung Convoy 3   221.980        2   \n",
              "1          Novimex Executive Leather Armchair, Black  3709.395        9   \n",
              "2                  Nokia Smart Phone, with Caller ID  5175.171        9   \n",
              "3                     Motorola Smart Phone, Cordless  2892.510        5   \n",
              "4                     Sharp Wireless Fax, High-Speed  2832.960        8   \n",
              "...                                              ...       ...      ...   \n",
              "51285                  Advantus Thumb Tacks, 12 Pack    65.100        5   \n",
              "51286  Eldon Image Series Desk Accessories, Burgundy    16.720        5   \n",
              "51287                                     Newell 341     8.560        2   \n",
              "51288                        Acco Index Tab, Economy    13.440        2   \n",
              "51289        Eaton Computer Printout Paper, 8.5 x 11    61.380        3   \n",
              "\n",
              "      Discount    Profit  Shipping Cost  Order Priority  \n",
              "0          0.0   62.1544         40.770            High  \n",
              "1          0.1 -288.7650        923.630        Critical  \n",
              "2          0.1  919.9710        915.490          Medium  \n",
              "3          0.1  -96.5400        910.160          Medium  \n",
              "4          0.0  311.5200        903.040        Critical  \n",
              "...        ...       ...            ...             ...  \n",
              "51285      0.0    4.5000          1.010          Medium  \n",
              "51286      0.2    3.3440          1.930            High  \n",
              "51287      0.0    2.4824          1.580            High  \n",
              "51288      0.0    2.4000          1.003          Medium  \n",
              "51289      0.0    1.8000          1.002            High  \n",
              "\n",
              "[51290 rows x 24 columns]"
            ]
          },
          "execution_count": 7,
          "metadata": {},
          "output_type": "execute_result"
        }
      ],
      "source": [
        "df = pd.read_excel(\"global_superstore_2016.xlsx\")\n",
        "df"
      ]
    },
    {
      "cell_type": "code",
      "execution_count": 8,
      "metadata": {
        "colab": {
          "base_uri": "https://localhost:8080/"
        },
        "id": "KZjbwlpV-IQH",
        "outputId": "ed2b2f50-1546-4176-fbe9-1b888520657b"
      },
      "outputs": [
        {
          "data": {
            "text/plain": [
              "(51290, 24)"
            ]
          },
          "execution_count": 8,
          "metadata": {},
          "output_type": "execute_result"
        }
      ],
      "source": [
        "df.shape\n"
      ]
    },
    {
      "cell_type": "code",
      "execution_count": 9,
      "metadata": {
        "colab": {
          "base_uri": "https://localhost:8080/"
        },
        "id": "yctkhL_z-ITZ",
        "outputId": "b3cf62f6-46a2-4178-9f6e-e756e2755d7d"
      },
      "outputs": [
        {
          "data": {
            "text/plain": [
              "Index(['Row ID', 'Order ID', 'Order Date', 'Ship Date', 'Ship Mode',\n",
              "       'Customer ID', 'Customer Name', 'Segment', 'Postal Code', 'City',\n",
              "       'State', 'Country', 'Region', 'Market', 'Product ID', 'Category',\n",
              "       'Sub-Category', 'Product Name', 'Sales', 'Quantity', 'Discount',\n",
              "       'Profit', 'Shipping Cost', 'Order Priority'],\n",
              "      dtype='object')"
            ]
          },
          "execution_count": 9,
          "metadata": {},
          "output_type": "execute_result"
        }
      ],
      "source": [
        "df.columns"
      ]
    },
    {
      "cell_type": "code",
      "execution_count": 10,
      "metadata": {
        "colab": {
          "base_uri": "https://localhost:8080/",
          "height": 836
        },
        "id": "2kVcO1OrA6-G",
        "outputId": "c012dab7-faae-47b2-d2f7-af73fddc854a"
      },
      "outputs": [
        {
          "data": {
            "text/plain": [
              "Row ID                0\n",
              "Order ID              0\n",
              "Order Date            0\n",
              "Ship Date             0\n",
              "Ship Mode             0\n",
              "Customer ID           0\n",
              "Customer Name         0\n",
              "Segment               0\n",
              "Postal Code       41296\n",
              "City                  0\n",
              "State                 0\n",
              "Country               0\n",
              "Region                0\n",
              "Market                0\n",
              "Product ID            0\n",
              "Category              0\n",
              "Sub-Category          0\n",
              "Product Name          0\n",
              "Sales                 0\n",
              "Quantity              0\n",
              "Discount              0\n",
              "Profit                0\n",
              "Shipping Cost         0\n",
              "Order Priority        0\n",
              "dtype: int64"
            ]
          },
          "execution_count": 10,
          "metadata": {},
          "output_type": "execute_result"
        }
      ],
      "source": [
        "df.isna().sum()"
      ]
    },
    {
      "cell_type": "code",
      "execution_count": 11,
      "metadata": {
        "colab": {
          "base_uri": "https://localhost:8080/"
        },
        "id": "nE3FbrsCA7Az",
        "outputId": "ba8b3bef-bcf7-429e-f2d3-e65a5cdb9d49"
      },
      "outputs": [
        {
          "name": "stdout",
          "output_type": "stream",
          "text": [
            "0\n"
          ]
        }
      ],
      "source": [
        "print(df.duplicated().sum())"
      ]
    },
    {
      "cell_type": "code",
      "execution_count": 12,
      "metadata": {
        "colab": {
          "base_uri": "https://localhost:8080/",
          "height": 441
        },
        "id": "sHOvKQ56BuGT",
        "outputId": "7ece0fd5-aea0-473d-e0e5-f5b36ee1ef35"
      },
      "outputs": [
        {
          "data": {
            "text/html": [
              "<div>\n",
              "<style scoped>\n",
              "    .dataframe tbody tr th:only-of-type {\n",
              "        vertical-align: middle;\n",
              "    }\n",
              "\n",
              "    .dataframe tbody tr th {\n",
              "        vertical-align: top;\n",
              "    }\n",
              "\n",
              "    .dataframe thead th {\n",
              "        text-align: right;\n",
              "    }\n",
              "</style>\n",
              "<table border=\"1\" class=\"dataframe\">\n",
              "  <thead>\n",
              "    <tr style=\"text-align: right;\">\n",
              "      <th></th>\n",
              "      <th>Row ID</th>\n",
              "      <th>Order Date</th>\n",
              "      <th>Ship Date</th>\n",
              "      <th>Postal Code</th>\n",
              "      <th>Sales</th>\n",
              "      <th>Quantity</th>\n",
              "      <th>Discount</th>\n",
              "      <th>Profit</th>\n",
              "      <th>Shipping Cost</th>\n",
              "    </tr>\n",
              "  </thead>\n",
              "  <tbody>\n",
              "    <tr>\n",
              "      <th>count</th>\n",
              "      <td>51290.00000</td>\n",
              "      <td>51290</td>\n",
              "      <td>51290</td>\n",
              "      <td>9994.000000</td>\n",
              "      <td>51290.000000</td>\n",
              "      <td>51290.000000</td>\n",
              "      <td>51290.000000</td>\n",
              "      <td>51290.000000</td>\n",
              "      <td>51290.000000</td>\n",
              "    </tr>\n",
              "    <tr>\n",
              "      <th>mean</th>\n",
              "      <td>25645.50000</td>\n",
              "      <td>2014-05-11 21:26:49.155780608</td>\n",
              "      <td>2014-05-15 20:42:42.745174528</td>\n",
              "      <td>55190.379428</td>\n",
              "      <td>246.490581</td>\n",
              "      <td>3.476545</td>\n",
              "      <td>0.142908</td>\n",
              "      <td>28.610982</td>\n",
              "      <td>26.478567</td>\n",
              "    </tr>\n",
              "    <tr>\n",
              "      <th>min</th>\n",
              "      <td>1.00000</td>\n",
              "      <td>2012-01-01 00:00:00</td>\n",
              "      <td>2012-01-03 00:00:00</td>\n",
              "      <td>1040.000000</td>\n",
              "      <td>0.444000</td>\n",
              "      <td>1.000000</td>\n",
              "      <td>0.000000</td>\n",
              "      <td>-6599.978000</td>\n",
              "      <td>1.002000</td>\n",
              "    </tr>\n",
              "    <tr>\n",
              "      <th>25%</th>\n",
              "      <td>12823.25000</td>\n",
              "      <td>2013-06-19 00:00:00</td>\n",
              "      <td>2013-06-23 00:00:00</td>\n",
              "      <td>23223.000000</td>\n",
              "      <td>30.758625</td>\n",
              "      <td>2.000000</td>\n",
              "      <td>0.000000</td>\n",
              "      <td>0.000000</td>\n",
              "      <td>2.610000</td>\n",
              "    </tr>\n",
              "    <tr>\n",
              "      <th>50%</th>\n",
              "      <td>25645.50000</td>\n",
              "      <td>2014-07-08 00:00:00</td>\n",
              "      <td>2014-07-12 00:00:00</td>\n",
              "      <td>56430.500000</td>\n",
              "      <td>85.053000</td>\n",
              "      <td>3.000000</td>\n",
              "      <td>0.000000</td>\n",
              "      <td>9.240000</td>\n",
              "      <td>7.790000</td>\n",
              "    </tr>\n",
              "    <tr>\n",
              "      <th>75%</th>\n",
              "      <td>38467.75000</td>\n",
              "      <td>2015-05-22 00:00:00</td>\n",
              "      <td>2015-05-26 00:00:00</td>\n",
              "      <td>90008.000000</td>\n",
              "      <td>251.053200</td>\n",
              "      <td>5.000000</td>\n",
              "      <td>0.200000</td>\n",
              "      <td>36.810000</td>\n",
              "      <td>24.450000</td>\n",
              "    </tr>\n",
              "    <tr>\n",
              "      <th>max</th>\n",
              "      <td>51290.00000</td>\n",
              "      <td>2015-12-31 00:00:00</td>\n",
              "      <td>2016-01-07 00:00:00</td>\n",
              "      <td>99301.000000</td>\n",
              "      <td>22638.480000</td>\n",
              "      <td>14.000000</td>\n",
              "      <td>0.850000</td>\n",
              "      <td>8399.976000</td>\n",
              "      <td>933.570000</td>\n",
              "    </tr>\n",
              "    <tr>\n",
              "      <th>std</th>\n",
              "      <td>14806.29199</td>\n",
              "      <td>NaN</td>\n",
              "      <td>NaN</td>\n",
              "      <td>32063.693350</td>\n",
              "      <td>487.565361</td>\n",
              "      <td>2.278766</td>\n",
              "      <td>0.212280</td>\n",
              "      <td>174.340972</td>\n",
              "      <td>57.251373</td>\n",
              "    </tr>\n",
              "  </tbody>\n",
              "</table>\n",
              "</div>"
            ],
            "text/plain": [
              "            Row ID                     Order Date  \\\n",
              "count  51290.00000                          51290   \n",
              "mean   25645.50000  2014-05-11 21:26:49.155780608   \n",
              "min        1.00000            2012-01-01 00:00:00   \n",
              "25%    12823.25000            2013-06-19 00:00:00   \n",
              "50%    25645.50000            2014-07-08 00:00:00   \n",
              "75%    38467.75000            2015-05-22 00:00:00   \n",
              "max    51290.00000            2015-12-31 00:00:00   \n",
              "std    14806.29199                            NaN   \n",
              "\n",
              "                           Ship Date   Postal Code         Sales  \\\n",
              "count                          51290   9994.000000  51290.000000   \n",
              "mean   2014-05-15 20:42:42.745174528  55190.379428    246.490581   \n",
              "min              2012-01-03 00:00:00   1040.000000      0.444000   \n",
              "25%              2013-06-23 00:00:00  23223.000000     30.758625   \n",
              "50%              2014-07-12 00:00:00  56430.500000     85.053000   \n",
              "75%              2015-05-26 00:00:00  90008.000000    251.053200   \n",
              "max              2016-01-07 00:00:00  99301.000000  22638.480000   \n",
              "std                              NaN  32063.693350    487.565361   \n",
              "\n",
              "           Quantity      Discount        Profit  Shipping Cost  \n",
              "count  51290.000000  51290.000000  51290.000000   51290.000000  \n",
              "mean       3.476545      0.142908     28.610982      26.478567  \n",
              "min        1.000000      0.000000  -6599.978000       1.002000  \n",
              "25%        2.000000      0.000000      0.000000       2.610000  \n",
              "50%        3.000000      0.000000      9.240000       7.790000  \n",
              "75%        5.000000      0.200000     36.810000      24.450000  \n",
              "max       14.000000      0.850000   8399.976000     933.570000  \n",
              "std        2.278766      0.212280    174.340972      57.251373  "
            ]
          },
          "execution_count": 12,
          "metadata": {},
          "output_type": "execute_result"
        }
      ],
      "source": [
        "df.describe()"
      ]
    },
    {
      "cell_type": "code",
      "execution_count": 13,
      "metadata": {
        "colab": {
          "base_uri": "https://localhost:8080/",
          "height": 836
        },
        "id": "NtzmVVoNBuIt",
        "outputId": "4f9e0db5-b53a-4a6a-a2de-417728a946fe"
      },
      "outputs": [
        {
          "data": {
            "text/plain": [
              "Row ID            51290\n",
              "Order ID          25728\n",
              "Order Date         1430\n",
              "Ship Date          1464\n",
              "Ship Mode             4\n",
              "Customer ID       17415\n",
              "Customer Name       796\n",
              "Segment               3\n",
              "Postal Code         631\n",
              "City               3650\n",
              "State              1102\n",
              "Country             165\n",
              "Region               23\n",
              "Market                5\n",
              "Product ID         3788\n",
              "Category              3\n",
              "Sub-Category         17\n",
              "Product Name       3788\n",
              "Sales             27200\n",
              "Quantity             14\n",
              "Discount             29\n",
              "Profit            28234\n",
              "Shipping Cost     16753\n",
              "Order Priority        4\n",
              "dtype: int64"
            ]
          },
          "metadata": {},
          "output_type": "display_data"
        }
      ],
      "source": [
        "display(df.nunique())"
      ]
    },
    {
      "cell_type": "code",
      "execution_count": 14,
      "metadata": {
        "colab": {
          "base_uri": "https://localhost:8080/"
        },
        "id": "ZziFM-Z_Cp79",
        "outputId": "4dc8f8f5-c730-421b-9acc-900a0da68573"
      },
      "outputs": [
        {
          "name": "stdout",
          "output_type": "stream",
          "text": [
            "Country\n",
            "Afghanistan       21673.32000\n",
            "Albania            3888.12000\n",
            "Algeria           36091.59000\n",
            "Angola            25554.00000\n",
            "Argentina         57511.78328\n",
            "                     ...     \n",
            "Vietnam           65210.06580\n",
            "Western Sahara      666.36000\n",
            "Yemen              2465.71200\n",
            "Zambia            26035.50000\n",
            "Zimbabwe           3765.10500\n",
            "Name: Sales, Length: 165, dtype: float64\n",
            "\n",
            "The country with the highest sales is: United States\n",
            "The highest sales amount is: 2297200.86\n"
          ]
        }
      ],
      "source": [
        "country_sales = df.groupby('Country')['Sales'].sum()\n",
        "country_with_highest_sales = country_sales.idxmax()\n",
        "highest_sales_amount = country_sales.max()\n",
        "\n",
        "print(country_sales)\n",
        "print()\n",
        "print(f\"The country with the highest sales is: {country_with_highest_sales}\")\n",
        "print(f\"The highest sales amount is: {highest_sales_amount:.2f}\")"
      ]
    },
    {
      "cell_type": "markdown",
      "metadata": {
        "id": "PqHsE4TFFQ7N"
      },
      "source": [
        "Part 2"
      ]
    },
    {
      "cell_type": "code",
      "execution_count": 15,
      "metadata": {
        "colab": {
          "base_uri": "https://localhost:8080/",
          "height": 439
        },
        "id": "346a228f",
        "outputId": "d9c355d7-77bb-495a-d789-3020c8e69374"
      },
      "outputs": [
        {
          "data": {
            "image/png": "[encoded data removed]",
            "text/plain": [
              "<Figure size 1000x600 with 1 Axes>"
            ]
          },
          "metadata": {},
          "output_type": "display_data"
        }
      ],
      "source": [
        "plt.figure(figsize=(10, 6))\n",
        "plt.hist(df['Sales'], bins=100)\n",
        "plt.title('Distribution of Sales Amounts')\n",
        "plt.xlabel('Sales Amount')\n",
        "plt.ylabel('Frequency')\n",
        "plt.show()"
      ]
    },
    {
      "cell_type": "code",
      "execution_count": 16,
      "metadata": {
        "colab": {
          "base_uri": "https://localhost:8080/"
        },
        "id": "XbB-4bppHYIm",
        "outputId": "dcf608b7-7759-4af9-f9a2-033cd748d879"
      },
      "outputs": [
        {
          "name": "stdout",
          "output_type": "stream",
          "text": [
            "47114    22638.480\n",
            "49003    17499.950\n",
            "44248    13999.960\n",
            "49940    11199.968\n",
            "25238    10499.970\n",
            "419       9892.740\n",
            "46295     9449.950\n",
            "6422      9099.930\n",
            "46386     8749.950\n",
            "11063     8399.976\n",
            "Name: Sales, dtype: float64\n"
          ]
        }
      ],
      "source": [
        "print(df['Sales'].sort_values(ascending=False).head(10))"
      ]
    },
    {
      "cell_type": "code",
      "execution_count": 17,
      "metadata": {
        "colab": {
          "base_uri": "https://localhost:8080/"
        },
        "id": "UrtHldOOHmcS",
        "outputId": "ae643707-ccdf-46f6-b2d1-8697e053db57"
      },
      "outputs": [
        {
          "name": "stdout",
          "output_type": "stream",
          "text": [
            "49003    8399.9760\n",
            "44248    6719.9808\n",
            "25238    5039.9856\n",
            "419      4946.3700\n",
            "46295    4630.4755\n",
            "17       3979.0800\n",
            "49940    3919.9888\n",
            "11123    3177.4750\n",
            "215      2939.3100\n",
            "313      2817.9900\n",
            "Name: Profit, dtype: float64\n"
          ]
        }
      ],
      "source": [
        "print(df['Profit'].sort_values(ascending=False).head(10))"
      ]
    },
    {
      "cell_type": "code",
      "execution_count": 18,
      "metadata": {
        "colab": {
          "base_uri": "https://localhost:8080/",
          "height": 528
        },
        "id": "f71a9517",
        "outputId": "418377d9-043b-45a8-c93d-9b8d0c70e860"
      },
      "outputs": [
        {
          "data": {
            "image/png": "[encoded data removed]",
            "text/plain": [
              "<Figure size 800x600 with 1 Axes>"
            ]
          },
          "metadata": {},
          "output_type": "display_data"
        }
      ],
      "source": [
        "plt.figure(figsize=(8, 6))\n",
        "plt.scatter(df['Sales'], df['Profit'])\n",
        "plt.title('Sales vs Profit')\n",
        "plt.xlabel('Sales')\n",
        "plt.ylabel('Profit')\n",
        "plt.grid()\n",
        "plt.show()"
      ]
    },
    {
      "cell_type": "code",
      "execution_count": 19,
      "metadata": {
        "colab": {
          "base_uri": "https://localhost:8080/",
          "height": 517
        },
        "id": "de15edd8",
        "outputId": "fb3dd949-e0e8-42c6-cc98-455776829c5e"
      },
      "outputs": [
        {
          "data": {
            "image/png": "[encoded data removed]",
            "text/plain": [
              "<Figure size 800x600 with 1 Axes>"
            ]
          },
          "metadata": {},
          "output_type": "display_data"
        }
      ],
      "source": [
        "region_sales = df.groupby('Region')['Sales'].sum().sort_values(ascending=False)\n",
        "\n",
        "plt.figure(figsize=(8, 6))\n",
        "plt.bar(region_sales.index, region_sales.values)\n",
        "plt.title('Total Sales per Region')\n",
        "plt.xlabel('Region')\n",
        "plt.ylabel('Total Sales')\n",
        "plt.xticks(rotation=45, ha='right')\n",
        "plt.tight_layout()\n",
        "plt.show()"
      ]
    },
    {
      "cell_type": "code",
      "execution_count": 20,
      "metadata": {
        "colab": {
          "base_uri": "https://localhost:8080/",
          "height": 492
        },
        "id": "bf6b3969",
        "outputId": "e374ff97-4c1d-4ab1-f142-49e73e26367f"
      },
      "outputs": [
        {
          "data": {
            "image/png": "[encoded data removed]",
            "text/plain": [
              "<Figure size 640x480 with 1 Axes>"
            ]
          },
          "metadata": {},
          "output_type": "display_data"
        }
      ],
      "source": [
        "group_profit=df.groupby('Category')['Profit'].sum()\n",
        "plt.boxplot(group_profit.values)\n",
        "plt.show()"
      ]
    },
    {
      "cell_type": "code",
      "execution_count": 21,
      "metadata": {
        "colab": {
          "base_uri": "https://localhost:8080/",
          "height": 446
        },
        "id": "bc6def73",
        "outputId": "6681a35d-fd37-424f-ba21-3114ad32c301"
      },
      "outputs": [
        {
          "data": {
            "image/png": "[encoded data removed]",
            "text/plain": [
              "<Figure size 1000x600 with 1 Axes>"
            ]
          },
          "metadata": {},
          "output_type": "display_data"
        }
      ],
      "source": [
        "df['Order Year'] = df['Order Date'].dt.year\n",
        "yearly_sales = df.groupby('Order Year')['Sales'].sum()\n",
        "\n",
        "plt.figure(figsize=(10, 6))\n",
        "plt.plot(yearly_sales.index, yearly_sales.values, marker='o')\n",
        "plt.title('Yearly Sales Trend')\n",
        "plt.xlabel('Year')\n",
        "plt.ylabel('Total Sales')\n",
        "plt.grid(True)\n",
        "plt.show()"
      ]
    },
    {
      "cell_type": "markdown",
      "metadata": {
        "id": "C7dDuyaJTFXA"
      },
      "source": [
        "Part 3"
      ]
    },
    {
      "cell_type": "code",
      "execution_count": 22,
      "metadata": {
        "colab": {
          "base_uri": "https://localhost:8080/"
        },
        "id": "ebMLQEKxTESw",
        "outputId": "977b51ab-b665-4cee-8802-53c23fc9eb42"
      },
      "outputs": [
        {
          "name": "stdout",
          "output_type": "stream",
          "text": [
            "246.4905812025736\n",
            "85.053\n",
            "0    12.96\n",
            "Name: Sales, dtype: float64\n"
          ]
        }
      ],
      "source": [
        "print(df['Sales'].mean())\n",
        "print(df['Sales'].median())\n",
        "print(df['Sales'].mode())"
      ]
    },
    {
      "cell_type": "code",
      "execution_count": 23,
      "metadata": {
        "colab": {
          "base_uri": "https://localhost:8080/"
        },
        "id": "HNtzhkVOTuIS",
        "outputId": "4fab43fb-63d9-4ef4-845c-e38cf812c1f2"
      },
      "outputs": [
        {
          "name": "stdout",
          "output_type": "stream",
          "text": [
            "30394.77448304805\n",
            "174.34097190003288\n"
          ]
        }
      ],
      "source": [
        "print(df['Profit'].var())\n",
        "print(df['Profit'].std())"
      ]
    },
    {
      "cell_type": "code",
      "execution_count": 24,
      "metadata": {
        "colab": {
          "base_uri": "https://localhost:8080/"
        },
        "id": "da9f7ef0",
        "outputId": "260563c7-3526-40d6-8d9f-e6df8b6046f4"
      },
      "outputs": [
        {
          "name": "stdout",
          "output_type": "stream",
          "text": [
            "The correlation between Discount and Profit is: -0.32\n"
          ]
        }
      ],
      "source": [
        "correlation = df['Discount'].corr(df['Profit'])\n",
        "print(f\"The correlation between Discount and Profit is: {correlation:.2f}\")"
      ]
    },
    {
      "cell_type": "code",
      "execution_count": 25,
      "metadata": {
        "colab": {
          "base_uri": "https://localhost:8080/"
        },
        "id": "ba21b6d1",
        "outputId": "3998c2ce-62c0-4737-f80d-5ee0f8f90cba"
      },
      "outputs": [
        {
          "name": "stdout",
          "output_type": "stream",
          "text": [
            "The number of orders with a discount greater than 0.3 is: 10361\n",
            "The total number of orders is: 51290\n",
            "The probability of a random order having a discount greater than 0.3 is: 0.2020\n"
          ]
        }
      ],
      "source": [
        "orders_with_high_discount = df[df['Discount'] > 0.3].shape[0]\n",
        "total_orders = df.shape[0]\n",
        "probability_high_discount = orders_with_high_discount / total_orders\n",
        "\n",
        "print(f\"The number of orders with a discount greater than 0.3 is: {orders_with_high_discount}\")\n",
        "print(f\"The total number of orders is: {total_orders}\")\n",
        "print(f\"The probability of a random order having a discount greater than 0.3 is: {probability_high_discount:.4f}\")"
      ]
    },
    {
      "cell_type": "code",
      "execution_count": 26,
      "metadata": {
        "colab": {
          "base_uri": "https://localhost:8080/"
        },
        "id": "da4e8e18",
        "outputId": "58f2f5c2-5587-403d-bf2e-8dcc11a32f09"
      },
      "outputs": [
        {
          "name": "stdout",
          "output_type": "stream",
          "text": [
            "The number of orders from the United States is: 9994\n",
            "The total number of orders is: 51290\n",
            "The probability of a random order being from the United States is: 0.1949\n"
          ]
        }
      ],
      "source": [
        "orders_from_us = df[df['Country'] == 'United States'].shape[0]\n",
        "total_orders = df.shape[0]\n",
        "probability_us_order = orders_from_us / total_orders\n",
        "\n",
        "print(f\"The number of orders from the United States is: {orders_from_us}\")\n",
        "print(f\"The total number of orders is: {total_orders}\")\n",
        "print(f\"The probability of a random order being from the United States is: {probability_us_order:.4f}\")"
      ]
    },
    {
      "cell_type": "code",
      "execution_count": 27,
      "metadata": {
        "colab": {
          "base_uri": "https://localhost:8080/"
        },
        "id": "9d0e1d89",
        "outputId": "4c97d019-b885-4f3e-af35-fafd63d1d4e5"
      },
      "outputs": [
        {
          "name": "stdout",
          "output_type": "stream",
          "text": [
            "The number of orders with negative profit is: 12544\n",
            "The total number of orders is: 51290\n",
            "The percentage of orders with negative profit is: 24.46%\n"
          ]
        }
      ],
      "source": [
        "orders_with_negative_profit = df[df['Profit'] < 0].shape[0]\n",
        "total_orders = df.shape[0]\n",
        "percentage_negative_profit = (orders_with_negative_profit / total_orders) * 100\n",
        "\n",
        "print(f\"The number of orders with negative profit is: {orders_with_negative_profit}\")\n",
        "print(f\"The total number of orders is: {total_orders}\")\n",
        "print(f\"The percentage of orders with negative profit is: {percentage_negative_profit:.2f}%\")"
      ]
    },
    {
      "cell_type": "markdown",
      "metadata": {
        "id": "4CgPDlCXXqrN"
      },
      "source": [
        "Part 4"
      ]
    },
    {
      "cell_type": "code",
      "execution_count": 28,
      "metadata": {
        "colab": {
          "base_uri": "https://localhost:8080/"
        },
        "id": "5izv7ZAMXp-j",
        "outputId": "0c47bccf-cc89-49c8-9e2a-875dd69ce5a7"
      },
      "outputs": [
        {
          "name": "stdout",
          "output_type": "stream",
          "text": [
            "[ 221.98  3709.395 5175.171 ...    8.56    13.44    61.38 ]\n",
            "[  62.1544 -288.765   919.971  ...    2.4824    2.4       1.8   ]\n"
          ]
        }
      ],
      "source": [
        "sales=np.array(df['Sales'])\n",
        "profit=np.array(df['Profit'])\n",
        "print(sales)\n",
        "print(profit)"
      ]
    },
    {
      "cell_type": "code",
      "execution_count": 29,
      "metadata": {
        "colab": {
          "base_uri": "https://localhost:8080/"
        },
        "id": "n4faY3lhYTA5",
        "outputId": "9b8e8fc7-a4f7-4704-bd0a-72239d627b71"
      },
      "outputs": [
        {
          "name": "stdout",
          "output_type": "stream",
          "text": [
            "[ 284.1344 3420.63   6095.142  ...   11.0424   15.84     63.18  ]\n",
            "[ 159.8256 3998.16   4255.2    ...    6.0776   11.04     59.58  ]\n"
          ]
        }
      ],
      "source": [
        "add=np.add(sales,profit)\n",
        "print(add)\n",
        "sub=np.subtract(sales,profit)\n",
        "print(sub)"
      ]
    },
    {
      "cell_type": "code",
      "execution_count": 30,
      "metadata": {
        "colab": {
          "base_uri": "https://localhost:8080/"
        },
        "id": "xKhpb-x6YpLI",
        "outputId": "382f81ab-c358-428a-fa9e-c2d3e1a7a6cc"
      },
      "outputs": [
        {
          "name": "stdout",
          "output_type": "stream",
          "text": [
            "2475811564.867057\n"
          ]
        }
      ],
      "source": [
        "dot=np.dot(sales,profit)\n",
        "print(dot)"
      ]
    },
    {
      "cell_type": "code",
      "execution_count": 31,
      "metadata": {
        "colab": {
          "base_uri": "https://localhost:8080/"
        },
        "id": "53dff5e1",
        "outputId": "d0339c5e-0f6a-4aa6-e78d-32a06f36238b"
      },
      "outputs": [
        {
          "name": "stdout",
          "output_type": "stream",
          "text": [
            "Sales and Profit Matrix:\n",
            "[[ 2.219800e+02  6.215440e+01]\n",
            " [ 3.709395e+03 -2.887650e+02]\n",
            " [ 5.175171e+03  9.199710e+02]\n",
            " ...\n",
            " [ 8.560000e+00  2.482400e+00]\n",
            " [ 1.344000e+01  2.400000e+00]\n",
            " [ 6.138000e+01  1.800000e+00]]\n",
            "\n",
            "Weights:\n",
            "[[0.6]\n",
            " [0.4]]\n",
            "\n",
            "Weighted Result:\n",
            "[[ 158.04976]\n",
            " [2110.131  ]\n",
            " [3473.091  ]\n",
            " ...\n",
            " [   6.12896]\n",
            " [   9.024  ]\n",
            " [  37.548  ]]\n"
          ]
        }
      ],
      "source": [
        "sales_profit_matrix = df[['Sales', 'Profit']].values\n",
        "weights = np.array([[0.6], [0.4]])\n",
        "\n",
        "weighted_result = np.dot(sales_profit_matrix, weights)\n",
        "\n",
        "print(\"Sales and Profit Matrix:\")\n",
        "print(sales_profit_matrix)\n",
        "print(\"\\nWeights:\")\n",
        "print(weights)\n",
        "print(\"\\nWeighted Result:\")\n",
        "print(weighted_result)"
      ]
    },
    {
      "cell_type": "code",
      "execution_count": 32,
      "metadata": {
        "colab": {
          "base_uri": "https://localhost:8080/"
        },
        "id": "70142aec",
        "outputId": "5687198f-f048-489a-c03d-5fb43cda5e8e"
      },
      "outputs": [
        {
          "name": "stdout",
          "output_type": "stream",
          "text": [
            "22638.48\n",
            "0.44399999999999995\n",
            "Original Sales Array:\n",
            "[ 221.98  3709.395 5175.171 ...    8.56    13.44    61.38 ]\n",
            "\n",
            "Normalized Sales Array (Manual Min-Max Scaling):\n",
            "[0.00978601 0.16383714 0.22858551 ... 0.00035851 0.00057408 0.00269175]\n"
          ]
        }
      ],
      "source": [
        "# Manual Min-Max Normalization\n",
        "min_sales = np.min(sales)\n",
        "max_sales = np.max(sales)\n",
        "normalized_sales_manual = (sales - min_sales) / (max_sales - min_sales)\n",
        "\n",
        "print(max_sales)\n",
        "print(min_sales)\n",
        "print(\"Original Sales Array:\")\n",
        "print(sales)\n",
        "print(\"\\nNormalized Sales Array (Manual Min-Max Scaling):\")\n",
        "print(normalized_sales_manual)"
      ]
    },
    {
      "cell_type": "markdown",
      "metadata": {
        "id": "PvaUHCncbaAm"
      },
      "source": [
        "Part 5"
      ]
    },
    {
      "cell_type": "code",
      "execution_count": 33,
      "metadata": {
        "colab": {
          "base_uri": "https://localhost:8080/"
        },
        "id": "OveHARdKbY3I",
        "outputId": "fe71af11-e4d5-43e2-dad6-81839f6c5bb6"
      },
      "outputs": [
        {
          "name": "stdout",
          "output_type": "stream",
          "text": [
            "0        28.000000\n",
            "1        -7.784693\n",
            "2        17.776630\n",
            "3        -3.337586\n",
            "4        10.996272\n",
            "           ...    \n",
            "51285     6.912442\n",
            "51286    20.000000\n",
            "51287    29.000000\n",
            "51288    17.857143\n",
            "51289     2.932551\n",
            "Length: 51290, dtype: float64\n"
          ]
        }
      ],
      "source": [
        "profitability=df['Profit']*100/df['Sales']\n",
        "print(profitability)\n"
      ]
    },
    {
      "cell_type": "markdown",
      "metadata": {
        "id": "Iqlt4DUlbZd9"
      },
      "source": []
    },
    {
      "cell_type": "code",
      "execution_count": 34,
      "metadata": {
        "colab": {
          "base_uri": "https://localhost:8080/",
          "height": 423
        },
        "id": "ca01a9f7",
        "outputId": "b7e3f6bd-090b-49ea-e087-19e0c0988dbf"
      },
      "outputs": [
        {
          "data": {
            "text/html": [
              "<div>\n",
              "<style scoped>\n",
              "    .dataframe tbody tr th:only-of-type {\n",
              "        vertical-align: middle;\n",
              "    }\n",
              "\n",
              "    .dataframe tbody tr th {\n",
              "        vertical-align: top;\n",
              "    }\n",
              "\n",
              "    .dataframe thead th {\n",
              "        text-align: right;\n",
              "    }\n",
              "</style>\n",
              "<table border=\"1\" class=\"dataframe\">\n",
              "  <thead>\n",
              "    <tr style=\"text-align: right;\">\n",
              "      <th></th>\n",
              "      <th>Sales</th>\n",
              "      <th>Profit</th>\n",
              "      <th>Derivative_wrt_Profit</th>\n",
              "    </tr>\n",
              "  </thead>\n",
              "  <tbody>\n",
              "    <tr>\n",
              "      <th>0</th>\n",
              "      <td>221.980</td>\n",
              "      <td>62.1544</td>\n",
              "      <td>0.450491</td>\n",
              "    </tr>\n",
              "    <tr>\n",
              "      <th>1</th>\n",
              "      <td>3709.395</td>\n",
              "      <td>-288.7650</td>\n",
              "      <td>0.026959</td>\n",
              "    </tr>\n",
              "    <tr>\n",
              "      <th>2</th>\n",
              "      <td>5175.171</td>\n",
              "      <td>919.9710</td>\n",
              "      <td>0.019323</td>\n",
              "    </tr>\n",
              "    <tr>\n",
              "      <th>3</th>\n",
              "      <td>2892.510</td>\n",
              "      <td>-96.5400</td>\n",
              "      <td>0.034572</td>\n",
              "    </tr>\n",
              "    <tr>\n",
              "      <th>4</th>\n",
              "      <td>2832.960</td>\n",
              "      <td>311.5200</td>\n",
              "      <td>0.035299</td>\n",
              "    </tr>\n",
              "    <tr>\n",
              "      <th>...</th>\n",
              "      <td>...</td>\n",
              "      <td>...</td>\n",
              "      <td>...</td>\n",
              "    </tr>\n",
              "    <tr>\n",
              "      <th>51285</th>\n",
              "      <td>65.100</td>\n",
              "      <td>4.5000</td>\n",
              "      <td>1.536098</td>\n",
              "    </tr>\n",
              "    <tr>\n",
              "      <th>51286</th>\n",
              "      <td>16.720</td>\n",
              "      <td>3.3440</td>\n",
              "      <td>5.980861</td>\n",
              "    </tr>\n",
              "    <tr>\n",
              "      <th>51287</th>\n",
              "      <td>8.560</td>\n",
              "      <td>2.4824</td>\n",
              "      <td>11.682243</td>\n",
              "    </tr>\n",
              "    <tr>\n",
              "      <th>51288</th>\n",
              "      <td>13.440</td>\n",
              "      <td>2.4000</td>\n",
              "      <td>7.440476</td>\n",
              "    </tr>\n",
              "    <tr>\n",
              "      <th>51289</th>\n",
              "      <td>61.380</td>\n",
              "      <td>1.8000</td>\n",
              "      <td>1.629195</td>\n",
              "    </tr>\n",
              "  </tbody>\n",
              "</table>\n",
              "<p>51290 rows × 3 columns</p>\n",
              "</div>"
            ],
            "text/plain": [
              "          Sales    Profit  Derivative_wrt_Profit\n",
              "0       221.980   62.1544               0.450491\n",
              "1      3709.395 -288.7650               0.026959\n",
              "2      5175.171  919.9710               0.019323\n",
              "3      2892.510  -96.5400               0.034572\n",
              "4      2832.960  311.5200               0.035299\n",
              "...         ...       ...                    ...\n",
              "51285    65.100    4.5000               1.536098\n",
              "51286    16.720    3.3440               5.980861\n",
              "51287     8.560    2.4824              11.682243\n",
              "51288    13.440    2.4000               7.440476\n",
              "51289    61.380    1.8000               1.629195\n",
              "\n",
              "[51290 rows x 3 columns]"
            ]
          },
          "metadata": {},
          "output_type": "display_data"
        }
      ],
      "source": [
        "df['Derivative_wrt_Profit'] = 100 / df['Sales']\n",
        "display(df[['Sales', 'Profit', 'Derivative_wrt_Profit']])"
      ]
    },
    {
      "cell_type": "markdown",
      "metadata": {
        "id": "yCabk1KjeEjS"
      },
      "source": [
        "Part 6"
      ]
    },
    {
      "cell_type": "code",
      "execution_count": 35,
      "metadata": {
        "colab": {
          "base_uri": "https://localhost:8080/"
        },
        "id": "Q9C_Uj8ceDt8",
        "outputId": "61c19e99-96be-41bf-fba6-ff93d28153fa"
      },
      "outputs": [
        {
          "name": "stdout",
          "output_type": "stream",
          "text": [
            "          Sales    Profit  profit_margin\n",
            "0       221.980   62.1544      28.000000\n",
            "1      3709.395 -288.7650      -7.784693\n",
            "2      5175.171  919.9710      17.776630\n",
            "3      2892.510  -96.5400      -3.337586\n",
            "4      2832.960  311.5200      10.996272\n",
            "...         ...       ...            ...\n",
            "51285    65.100    4.5000       6.912442\n",
            "51286    16.720    3.3440      20.000000\n",
            "51287     8.560    2.4824      29.000000\n",
            "51288    13.440    2.4000      17.857143\n",
            "51289    61.380    1.8000       2.932551\n",
            "\n",
            "[51290 rows x 3 columns]\n"
          ]
        }
      ],
      "source": [
        "df['profit_margin']=df['Profit']/df['Sales']*100\n",
        "print(df[['Sales','Profit','profit_margin']])"
      ]
    },
    {
      "cell_type": "code",
      "execution_count": 36,
      "metadata": {
        "colab": {
          "base_uri": "https://localhost:8080/",
          "height": 423
        },
        "id": "405ae4f9",
        "outputId": "f9ea0328-6cbe-4806-f47b-b811c784161b"
      },
      "outputs": [
        {
          "data": {
            "text/html": [
              "<div>\n",
              "<style scoped>\n",
              "    .dataframe tbody tr th:only-of-type {\n",
              "        vertical-align: middle;\n",
              "    }\n",
              "\n",
              "    .dataframe tbody tr th {\n",
              "        vertical-align: top;\n",
              "    }\n",
              "\n",
              "    .dataframe thead th {\n",
              "        text-align: right;\n",
              "    }\n",
              "</style>\n",
              "<table border=\"1\" class=\"dataframe\">\n",
              "  <thead>\n",
              "    <tr style=\"text-align: right;\">\n",
              "      <th></th>\n",
              "      <th>Discount</th>\n",
              "      <th>is_high_discount</th>\n",
              "    </tr>\n",
              "  </thead>\n",
              "  <tbody>\n",
              "    <tr>\n",
              "      <th>0</th>\n",
              "      <td>0.0</td>\n",
              "      <td>0</td>\n",
              "    </tr>\n",
              "    <tr>\n",
              "      <th>1</th>\n",
              "      <td>0.1</td>\n",
              "      <td>0</td>\n",
              "    </tr>\n",
              "    <tr>\n",
              "      <th>2</th>\n",
              "      <td>0.1</td>\n",
              "      <td>0</td>\n",
              "    </tr>\n",
              "    <tr>\n",
              "      <th>3</th>\n",
              "      <td>0.1</td>\n",
              "      <td>0</td>\n",
              "    </tr>\n",
              "    <tr>\n",
              "      <th>4</th>\n",
              "      <td>0.0</td>\n",
              "      <td>0</td>\n",
              "    </tr>\n",
              "    <tr>\n",
              "      <th>...</th>\n",
              "      <td>...</td>\n",
              "      <td>...</td>\n",
              "    </tr>\n",
              "    <tr>\n",
              "      <th>51285</th>\n",
              "      <td>0.0</td>\n",
              "      <td>0</td>\n",
              "    </tr>\n",
              "    <tr>\n",
              "      <th>51286</th>\n",
              "      <td>0.2</td>\n",
              "      <td>0</td>\n",
              "    </tr>\n",
              "    <tr>\n",
              "      <th>51287</th>\n",
              "      <td>0.0</td>\n",
              "      <td>0</td>\n",
              "    </tr>\n",
              "    <tr>\n",
              "      <th>51288</th>\n",
              "      <td>0.0</td>\n",
              "      <td>0</td>\n",
              "    </tr>\n",
              "    <tr>\n",
              "      <th>51289</th>\n",
              "      <td>0.0</td>\n",
              "      <td>0</td>\n",
              "    </tr>\n",
              "  </tbody>\n",
              "</table>\n",
              "<p>51290 rows × 2 columns</p>\n",
              "</div>"
            ],
            "text/plain": [
              "       Discount  is_high_discount\n",
              "0           0.0                 0\n",
              "1           0.1                 0\n",
              "2           0.1                 0\n",
              "3           0.1                 0\n",
              "4           0.0                 0\n",
              "...         ...               ...\n",
              "51285       0.0                 0\n",
              "51286       0.2                 0\n",
              "51287       0.0                 0\n",
              "51288       0.0                 0\n",
              "51289       0.0                 0\n",
              "\n",
              "[51290 rows x 2 columns]"
            ]
          },
          "metadata": {},
          "output_type": "display_data"
        }
      ],
      "source": [
        "df['is_high_discount'] = np.where(df['Discount'] > 0.3, 1, 0)\n",
        "display(df[['Discount', 'is_high_discount']])"
      ]
    },
    {
      "cell_type": "code",
      "execution_count": 37,
      "metadata": {
        "colab": {
          "base_uri": "https://localhost:8080/"
        },
        "id": "rY9yN9YffZG1",
        "outputId": "9853418c-af1f-473a-b1d4-df7426b97ca1"
      },
      "outputs": [
        {
          "name": "stdout",
          "output_type": "stream",
          "text": [
            "         Profit  is_profitable\n",
            "0       62.1544              1\n",
            "1     -288.7650              0\n",
            "2      919.9710              1\n",
            "3      -96.5400              0\n",
            "4      311.5200              1\n",
            "...         ...            ...\n",
            "51285    4.5000              1\n",
            "51286    3.3440              1\n",
            "51287    2.4824              1\n",
            "51288    2.4000              1\n",
            "51289    1.8000              1\n",
            "\n",
            "[51290 rows x 2 columns]\n"
          ]
        }
      ],
      "source": [
        "df['is_profitable'] = np.where(df['Profit'] > 0, 1, 0)\n",
        "print(df[['Profit','is_profitable']])"
      ]
    },
    {
      "cell_type": "code",
      "execution_count": null,
      "metadata": {
        "id": "XE2S3K3qfsNk"
      },
      "outputs": [],
      "source": []
    },
    {
      "cell_type": "code",
      "execution_count": 38,
      "metadata": {
        "colab": {
          "base_uri": "https://localhost:8080/",
          "height": 423
        },
        "id": "a36c9067",
        "outputId": "9ba12198-6d4e-4293-d20e-4cb13d0c8475"
      },
      "outputs": [
        {
          "data": {
            "text/html": [
              "<div>\n",
              "<style scoped>\n",
              "    .dataframe tbody tr th:only-of-type {\n",
              "        vertical-align: middle;\n",
              "    }\n",
              "\n",
              "    .dataframe tbody tr th {\n",
              "        vertical-align: top;\n",
              "    }\n",
              "\n",
              "    .dataframe thead th {\n",
              "        text-align: right;\n",
              "    }\n",
              "</style>\n",
              "<table border=\"1\" class=\"dataframe\">\n",
              "  <thead>\n",
              "    <tr style=\"text-align: right;\">\n",
              "      <th></th>\n",
              "      <th>Sales</th>\n",
              "      <th>Sales_Quartile</th>\n",
              "    </tr>\n",
              "  </thead>\n",
              "  <tbody>\n",
              "    <tr>\n",
              "      <th>0</th>\n",
              "      <td>221.980</td>\n",
              "      <td>Q3</td>\n",
              "    </tr>\n",
              "    <tr>\n",
              "      <th>1</th>\n",
              "      <td>3709.395</td>\n",
              "      <td>Q4</td>\n",
              "    </tr>\n",
              "    <tr>\n",
              "      <th>2</th>\n",
              "      <td>5175.171</td>\n",
              "      <td>Q4</td>\n",
              "    </tr>\n",
              "    <tr>\n",
              "      <th>3</th>\n",
              "      <td>2892.510</td>\n",
              "      <td>Q4</td>\n",
              "    </tr>\n",
              "    <tr>\n",
              "      <th>4</th>\n",
              "      <td>2832.960</td>\n",
              "      <td>Q4</td>\n",
              "    </tr>\n",
              "    <tr>\n",
              "      <th>...</th>\n",
              "      <td>...</td>\n",
              "      <td>...</td>\n",
              "    </tr>\n",
              "    <tr>\n",
              "      <th>51285</th>\n",
              "      <td>65.100</td>\n",
              "      <td>Q2</td>\n",
              "    </tr>\n",
              "    <tr>\n",
              "      <th>51286</th>\n",
              "      <td>16.720</td>\n",
              "      <td>Q1</td>\n",
              "    </tr>\n",
              "    <tr>\n",
              "      <th>51287</th>\n",
              "      <td>8.560</td>\n",
              "      <td>Q1</td>\n",
              "    </tr>\n",
              "    <tr>\n",
              "      <th>51288</th>\n",
              "      <td>13.440</td>\n",
              "      <td>Q1</td>\n",
              "    </tr>\n",
              "    <tr>\n",
              "      <th>51289</th>\n",
              "      <td>61.380</td>\n",
              "      <td>Q2</td>\n",
              "    </tr>\n",
              "  </tbody>\n",
              "</table>\n",
              "<p>51290 rows × 2 columns</p>\n",
              "</div>"
            ],
            "text/plain": [
              "          Sales Sales_Quartile\n",
              "0       221.980             Q3\n",
              "1      3709.395             Q4\n",
              "2      5175.171             Q4\n",
              "3      2892.510             Q4\n",
              "4      2832.960             Q4\n",
              "...         ...            ...\n",
              "51285    65.100             Q2\n",
              "51286    16.720             Q1\n",
              "51287     8.560             Q1\n",
              "51288    13.440             Q1\n",
              "51289    61.380             Q2\n",
              "\n",
              "[51290 rows x 2 columns]"
            ]
          },
          "metadata": {},
          "output_type": "display_data"
        }
      ],
      "source": [
        "df['Sales_Quartile'] = pd.qcut(df['Sales'], q=4, labels=['Q1', 'Q2', 'Q3', 'Q4'])\n",
        "display(df[['Sales', 'Sales_Quartile']])"
      ]
    },
    {
      "cell_type": "code",
      "execution_count": 39,
      "metadata": {
        "colab": {
          "base_uri": "https://localhost:8080/",
          "height": 423
        },
        "id": "MA8ws7kDgdCn",
        "outputId": "838c4166-6cae-49b2-b3aa-a4684f285fd9"
      },
      "outputs": [
        {
          "data": {
            "text/html": [
              "<div>\n",
              "<style scoped>\n",
              "    .dataframe tbody tr th:only-of-type {\n",
              "        vertical-align: middle;\n",
              "    }\n",
              "\n",
              "    .dataframe tbody tr th {\n",
              "        vertical-align: top;\n",
              "    }\n",
              "\n",
              "    .dataframe thead th {\n",
              "        text-align: right;\n",
              "    }\n",
              "</style>\n",
              "<table border=\"1\" class=\"dataframe\">\n",
              "  <thead>\n",
              "    <tr style=\"text-align: right;\">\n",
              "      <th></th>\n",
              "      <th>Order Date</th>\n",
              "      <th>order_year</th>\n",
              "    </tr>\n",
              "  </thead>\n",
              "  <tbody>\n",
              "    <tr>\n",
              "      <th>0</th>\n",
              "      <td>2014-11-11</td>\n",
              "      <td>2014</td>\n",
              "    </tr>\n",
              "    <tr>\n",
              "      <th>1</th>\n",
              "      <td>2014-02-05</td>\n",
              "      <td>2014</td>\n",
              "    </tr>\n",
              "    <tr>\n",
              "      <th>2</th>\n",
              "      <td>2014-10-17</td>\n",
              "      <td>2014</td>\n",
              "    </tr>\n",
              "    <tr>\n",
              "      <th>3</th>\n",
              "      <td>2014-01-28</td>\n",
              "      <td>2014</td>\n",
              "    </tr>\n",
              "    <tr>\n",
              "      <th>4</th>\n",
              "      <td>2014-11-05</td>\n",
              "      <td>2014</td>\n",
              "    </tr>\n",
              "    <tr>\n",
              "      <th>...</th>\n",
              "      <td>...</td>\n",
              "      <td>...</td>\n",
              "    </tr>\n",
              "    <tr>\n",
              "      <th>51285</th>\n",
              "      <td>2015-06-19</td>\n",
              "      <td>2015</td>\n",
              "    </tr>\n",
              "    <tr>\n",
              "      <th>51286</th>\n",
              "      <td>2014-05-06</td>\n",
              "      <td>2014</td>\n",
              "    </tr>\n",
              "    <tr>\n",
              "      <th>51287</th>\n",
              "      <td>2012-08-26</td>\n",
              "      <td>2012</td>\n",
              "    </tr>\n",
              "    <tr>\n",
              "      <th>51288</th>\n",
              "      <td>2013-02-17</td>\n",
              "      <td>2013</td>\n",
              "    </tr>\n",
              "    <tr>\n",
              "      <th>51289</th>\n",
              "      <td>2013-05-22</td>\n",
              "      <td>2013</td>\n",
              "    </tr>\n",
              "  </tbody>\n",
              "</table>\n",
              "<p>51290 rows × 2 columns</p>\n",
              "</div>"
            ],
            "text/plain": [
              "      Order Date  order_year\n",
              "0     2014-11-11        2014\n",
              "1     2014-02-05        2014\n",
              "2     2014-10-17        2014\n",
              "3     2014-01-28        2014\n",
              "4     2014-11-05        2014\n",
              "...          ...         ...\n",
              "51285 2015-06-19        2015\n",
              "51286 2014-05-06        2014\n",
              "51287 2012-08-26        2012\n",
              "51288 2013-02-17        2013\n",
              "51289 2013-05-22        2013\n",
              "\n",
              "[51290 rows x 2 columns]"
            ]
          },
          "metadata": {},
          "output_type": "display_data"
        }
      ],
      "source": [
        "df['order_year']=df['Order Date'].dt.year\n",
        "display(df[['Order Date','order_year']])"
      ]
    },
    {
      "cell_type": "markdown",
      "metadata": {
        "id": "1XoT36xWgvfP"
      },
      "source": [
        "Part 7"
      ]
    },
    {
      "cell_type": "code",
      "execution_count": 40,
      "metadata": {
        "colab": {
          "base_uri": "https://localhost:8080/",
          "height": 808
        },
        "id": "23437255",
        "outputId": "5497ef85-d40f-4953-81f5-3d912e794a18"
      },
      "outputs": [
        {
          "data": {
            "text/html": [
              "<div>\n",
              "<style scoped>\n",
              "    .dataframe tbody tr th:only-of-type {\n",
              "        vertical-align: middle;\n",
              "    }\n",
              "\n",
              "    .dataframe tbody tr th {\n",
              "        vertical-align: top;\n",
              "    }\n",
              "\n",
              "    .dataframe thead th {\n",
              "        text-align: right;\n",
              "    }\n",
              "</style>\n",
              "<table border=\"1\" class=\"dataframe\">\n",
              "  <thead>\n",
              "    <tr style=\"text-align: right;\">\n",
              "      <th></th>\n",
              "      <th>Row ID</th>\n",
              "      <th>Order ID</th>\n",
              "      <th>Order Date</th>\n",
              "      <th>Ship Date</th>\n",
              "      <th>Ship Mode</th>\n",
              "      <th>Customer ID</th>\n",
              "      <th>Customer Name</th>\n",
              "      <th>Segment</th>\n",
              "      <th>Postal Code</th>\n",
              "      <th>City</th>\n",
              "      <th>...</th>\n",
              "      <th>Profit</th>\n",
              "      <th>Shipping Cost</th>\n",
              "      <th>Order Priority</th>\n",
              "      <th>Order Year</th>\n",
              "      <th>Derivative_wrt_Profit</th>\n",
              "      <th>profit_margin</th>\n",
              "      <th>is_high_discount</th>\n",
              "      <th>is_profitable</th>\n",
              "      <th>Sales_Quartile</th>\n",
              "      <th>order_year</th>\n",
              "    </tr>\n",
              "  </thead>\n",
              "  <tbody>\n",
              "    <tr>\n",
              "      <th>2</th>\n",
              "      <td>25330</td>\n",
              "      <td>IN-2014-CR127307-41929</td>\n",
              "      <td>2014-10-17</td>\n",
              "      <td>2014-10-18</td>\n",
              "      <td>First Class</td>\n",
              "      <td>CR-127307</td>\n",
              "      <td>Craig Reiter</td>\n",
              "      <td>Consumer</td>\n",
              "      <td>NaN</td>\n",
              "      <td>Brisbane</td>\n",
              "      <td>...</td>\n",
              "      <td>919.9710</td>\n",
              "      <td>915.49</td>\n",
              "      <td>Medium</td>\n",
              "      <td>2014</td>\n",
              "      <td>0.019323</td>\n",
              "      <td>17.776630</td>\n",
              "      <td>0</td>\n",
              "      <td>1</td>\n",
              "      <td>Q4</td>\n",
              "      <td>2014</td>\n",
              "    </tr>\n",
              "    <tr>\n",
              "      <th>4</th>\n",
              "      <td>47221</td>\n",
              "      <td>SG-2014-RH9495111-41948</td>\n",
              "      <td>2014-11-05</td>\n",
              "      <td>2014-11-06</td>\n",
              "      <td>Same Day</td>\n",
              "      <td>RH-9495111</td>\n",
              "      <td>Rick Hansen</td>\n",
              "      <td>Consumer</td>\n",
              "      <td>NaN</td>\n",
              "      <td>Dakar</td>\n",
              "      <td>...</td>\n",
              "      <td>311.5200</td>\n",
              "      <td>903.04</td>\n",
              "      <td>Critical</td>\n",
              "      <td>2014</td>\n",
              "      <td>0.035299</td>\n",
              "      <td>10.996272</td>\n",
              "      <td>0</td>\n",
              "      <td>1</td>\n",
              "      <td>Q4</td>\n",
              "      <td>2014</td>\n",
              "    </tr>\n",
              "    <tr>\n",
              "      <th>5</th>\n",
              "      <td>22732</td>\n",
              "      <td>IN-2014-JM156557-41818</td>\n",
              "      <td>2014-06-28</td>\n",
              "      <td>2014-07-01</td>\n",
              "      <td>Second Class</td>\n",
              "      <td>JM-156557</td>\n",
              "      <td>Jim Mitchum</td>\n",
              "      <td>Corporate</td>\n",
              "      <td>NaN</td>\n",
              "      <td>Sydney</td>\n",
              "      <td>...</td>\n",
              "      <td>763.2750</td>\n",
              "      <td>897.35</td>\n",
              "      <td>Critical</td>\n",
              "      <td>2014</td>\n",
              "      <td>0.034932</td>\n",
              "      <td>26.662999</td>\n",
              "      <td>0</td>\n",
              "      <td>1</td>\n",
              "      <td>Q4</td>\n",
              "      <td>2014</td>\n",
              "    </tr>\n",
              "    <tr>\n",
              "      <th>6</th>\n",
              "      <td>30570</td>\n",
              "      <td>IN-2012-TS2134092-41219</td>\n",
              "      <td>2012-11-06</td>\n",
              "      <td>2012-11-08</td>\n",
              "      <td>First Class</td>\n",
              "      <td>TS-2134092</td>\n",
              "      <td>Toby Swindell</td>\n",
              "      <td>Consumer</td>\n",
              "      <td>NaN</td>\n",
              "      <td>Porirua</td>\n",
              "      <td>...</td>\n",
              "      <td>564.8400</td>\n",
              "      <td>894.77</td>\n",
              "      <td>Critical</td>\n",
              "      <td>2012</td>\n",
              "      <td>0.054882</td>\n",
              "      <td>30.999737</td>\n",
              "      <td>0</td>\n",
              "      <td>1</td>\n",
              "      <td>Q4</td>\n",
              "      <td>2012</td>\n",
              "    </tr>\n",
              "    <tr>\n",
              "      <th>7</th>\n",
              "      <td>31192</td>\n",
              "      <td>IN-2013-MB1808592-41378</td>\n",
              "      <td>2013-04-14</td>\n",
              "      <td>2013-04-18</td>\n",
              "      <td>Standard Class</td>\n",
              "      <td>MB-1808592</td>\n",
              "      <td>Mick Brown</td>\n",
              "      <td>Consumer</td>\n",
              "      <td>NaN</td>\n",
              "      <td>Hamilton</td>\n",
              "      <td>...</td>\n",
              "      <td>996.4800</td>\n",
              "      <td>878.38</td>\n",
              "      <td>High</td>\n",
              "      <td>2013</td>\n",
              "      <td>0.019066</td>\n",
              "      <td>18.999245</td>\n",
              "      <td>0</td>\n",
              "      <td>1</td>\n",
              "      <td>Q4</td>\n",
              "      <td>2013</td>\n",
              "    </tr>\n",
              "    <tr>\n",
              "      <th>...</th>\n",
              "      <td>...</td>\n",
              "      <td>...</td>\n",
              "      <td>...</td>\n",
              "      <td>...</td>\n",
              "      <td>...</td>\n",
              "      <td>...</td>\n",
              "      <td>...</td>\n",
              "      <td>...</td>\n",
              "      <td>...</td>\n",
              "      <td>...</td>\n",
              "      <td>...</td>\n",
              "      <td>...</td>\n",
              "      <td>...</td>\n",
              "      <td>...</td>\n",
              "      <td>...</td>\n",
              "      <td>...</td>\n",
              "      <td>...</td>\n",
              "      <td>...</td>\n",
              "      <td>...</td>\n",
              "      <td>...</td>\n",
              "      <td>...</td>\n",
              "    </tr>\n",
              "    <tr>\n",
              "      <th>51138</th>\n",
              "      <td>36507</td>\n",
              "      <td>CA-2013-YS21880140-41285</td>\n",
              "      <td>2013-01-11</td>\n",
              "      <td>2013-01-17</td>\n",
              "      <td>Standard Class</td>\n",
              "      <td>YS-218801406</td>\n",
              "      <td>Yana Sorensen</td>\n",
              "      <td>Corporate</td>\n",
              "      <td>19711.0</td>\n",
              "      <td>Newark</td>\n",
              "      <td>...</td>\n",
              "      <td>120.9468</td>\n",
              "      <td>29.63</td>\n",
              "      <td>Medium</td>\n",
              "      <td>2013</td>\n",
              "      <td>0.214971</td>\n",
              "      <td>26.000000</td>\n",
              "      <td>0</td>\n",
              "      <td>1</td>\n",
              "      <td>Q4</td>\n",
              "      <td>2013</td>\n",
              "    </tr>\n",
              "    <tr>\n",
              "      <th>51151</th>\n",
              "      <td>34367</td>\n",
              "      <td>CA-2012-YC21895140-41229</td>\n",
              "      <td>2012-11-16</td>\n",
              "      <td>2012-11-21</td>\n",
              "      <td>Standard Class</td>\n",
              "      <td>YC-218951406</td>\n",
              "      <td>Yoseph Carroll</td>\n",
              "      <td>Corporate</td>\n",
              "      <td>19711.0</td>\n",
              "      <td>Newark</td>\n",
              "      <td>...</td>\n",
              "      <td>792.2691</td>\n",
              "      <td>428.80</td>\n",
              "      <td>High</td>\n",
              "      <td>2012</td>\n",
              "      <td>0.034079</td>\n",
              "      <td>27.000000</td>\n",
              "      <td>0</td>\n",
              "      <td>1</td>\n",
              "      <td>Q4</td>\n",
              "      <td>2012</td>\n",
              "    </tr>\n",
              "    <tr>\n",
              "      <th>51192</th>\n",
              "      <td>32107</td>\n",
              "      <td>CA-2012-ZC21910140-41194</td>\n",
              "      <td>2012-10-12</td>\n",
              "      <td>2012-10-14</td>\n",
              "      <td>First Class</td>\n",
              "      <td>ZC-219101404</td>\n",
              "      <td>Zuschuss Carroll</td>\n",
              "      <td>Consumer</td>\n",
              "      <td>98026.0</td>\n",
              "      <td>Edmonds</td>\n",
              "      <td>...</td>\n",
              "      <td>311.6520</td>\n",
              "      <td>146.92</td>\n",
              "      <td>High</td>\n",
              "      <td>2012</td>\n",
              "      <td>0.077009</td>\n",
              "      <td>24.000000</td>\n",
              "      <td>0</td>\n",
              "      <td>1</td>\n",
              "      <td>Q4</td>\n",
              "      <td>2012</td>\n",
              "    </tr>\n",
              "    <tr>\n",
              "      <th>51193</th>\n",
              "      <td>36485</td>\n",
              "      <td>CA-2013-ZC21910140-41530</td>\n",
              "      <td>2013-09-13</td>\n",
              "      <td>2013-09-18</td>\n",
              "      <td>Standard Class</td>\n",
              "      <td>ZC-219101402</td>\n",
              "      <td>Zuschuss Carroll</td>\n",
              "      <td>Consumer</td>\n",
              "      <td>47201.0</td>\n",
              "      <td>Columbus</td>\n",
              "      <td>...</td>\n",
              "      <td>394.2120</td>\n",
              "      <td>132.78</td>\n",
              "      <td>Medium</td>\n",
              "      <td>2013</td>\n",
              "      <td>0.065954</td>\n",
              "      <td>26.000000</td>\n",
              "      <td>0</td>\n",
              "      <td>1</td>\n",
              "      <td>Q4</td>\n",
              "      <td>2013</td>\n",
              "    </tr>\n",
              "    <tr>\n",
              "      <th>51265</th>\n",
              "      <td>37195</td>\n",
              "      <td>CA-2014-ZD21925140-41733</td>\n",
              "      <td>2014-04-04</td>\n",
              "      <td>2014-04-10</td>\n",
              "      <td>Standard Class</td>\n",
              "      <td>ZD-219251402</td>\n",
              "      <td>Zuschuss Donatelli</td>\n",
              "      <td>Consumer</td>\n",
              "      <td>47374.0</td>\n",
              "      <td>Richmond</td>\n",
              "      <td>...</td>\n",
              "      <td>124.7808</td>\n",
              "      <td>11.84</td>\n",
              "      <td>Medium</td>\n",
              "      <td>2014</td>\n",
              "      <td>0.384675</td>\n",
              "      <td>48.000000</td>\n",
              "      <td>0</td>\n",
              "      <td>1</td>\n",
              "      <td>Q4</td>\n",
              "      <td>2014</td>\n",
              "    </tr>\n",
              "  </tbody>\n",
              "</table>\n",
              "<p>5354 rows × 31 columns</p>\n",
              "</div>"
            ],
            "text/plain": [
              "       Row ID                  Order ID Order Date  Ship Date       Ship Mode  \\\n",
              "2       25330    IN-2014-CR127307-41929 2014-10-17 2014-10-18     First Class   \n",
              "4       47221   SG-2014-RH9495111-41948 2014-11-05 2014-11-06        Same Day   \n",
              "5       22732    IN-2014-JM156557-41818 2014-06-28 2014-07-01    Second Class   \n",
              "6       30570   IN-2012-TS2134092-41219 2012-11-06 2012-11-08     First Class   \n",
              "7       31192   IN-2013-MB1808592-41378 2013-04-14 2013-04-18  Standard Class   \n",
              "...       ...                       ...        ...        ...             ...   \n",
              "51138   36507  CA-2013-YS21880140-41285 2013-01-11 2013-01-17  Standard Class   \n",
              "51151   34367  CA-2012-YC21895140-41229 2012-11-16 2012-11-21  Standard Class   \n",
              "51192   32107  CA-2012-ZC21910140-41194 2012-10-12 2012-10-14     First Class   \n",
              "51193   36485  CA-2013-ZC21910140-41530 2013-09-13 2013-09-18  Standard Class   \n",
              "51265   37195  CA-2014-ZD21925140-41733 2014-04-04 2014-04-10  Standard Class   \n",
              "\n",
              "        Customer ID       Customer Name    Segment  Postal Code      City  \\\n",
              "2         CR-127307        Craig Reiter   Consumer          NaN  Brisbane   \n",
              "4        RH-9495111         Rick Hansen   Consumer          NaN     Dakar   \n",
              "5         JM-156557         Jim Mitchum  Corporate          NaN    Sydney   \n",
              "6        TS-2134092       Toby Swindell   Consumer          NaN   Porirua   \n",
              "7        MB-1808592          Mick Brown   Consumer          NaN  Hamilton   \n",
              "...             ...                 ...        ...          ...       ...   \n",
              "51138  YS-218801406       Yana Sorensen  Corporate      19711.0    Newark   \n",
              "51151  YC-218951406      Yoseph Carroll  Corporate      19711.0    Newark   \n",
              "51192  ZC-219101404    Zuschuss Carroll   Consumer      98026.0   Edmonds   \n",
              "51193  ZC-219101402    Zuschuss Carroll   Consumer      47201.0  Columbus   \n",
              "51265  ZD-219251402  Zuschuss Donatelli   Consumer      47374.0  Richmond   \n",
              "\n",
              "       ...    Profit Shipping Cost Order Priority Order Year  \\\n",
              "2      ...  919.9710        915.49         Medium       2014   \n",
              "4      ...  311.5200        903.04       Critical       2014   \n",
              "5      ...  763.2750        897.35       Critical       2014   \n",
              "6      ...  564.8400        894.77       Critical       2012   \n",
              "7      ...  996.4800        878.38           High       2013   \n",
              "...    ...       ...           ...            ...        ...   \n",
              "51138  ...  120.9468         29.63         Medium       2013   \n",
              "51151  ...  792.2691        428.80           High       2012   \n",
              "51192  ...  311.6520        146.92           High       2012   \n",
              "51193  ...  394.2120        132.78         Medium       2013   \n",
              "51265  ...  124.7808         11.84         Medium       2014   \n",
              "\n",
              "      Derivative_wrt_Profit profit_margin is_high_discount is_profitable  \\\n",
              "2                  0.019323     17.776630                0             1   \n",
              "4                  0.035299     10.996272                0             1   \n",
              "5                  0.034932     26.662999                0             1   \n",
              "6                  0.054882     30.999737                0             1   \n",
              "7                  0.019066     18.999245                0             1   \n",
              "...                     ...           ...              ...           ...   \n",
              "51138              0.214971     26.000000                0             1   \n",
              "51151              0.034079     27.000000                0             1   \n",
              "51192              0.077009     24.000000                0             1   \n",
              "51193              0.065954     26.000000                0             1   \n",
              "51265              0.384675     48.000000                0             1   \n",
              "\n",
              "       Sales_Quartile  order_year  \n",
              "2                  Q4        2014  \n",
              "4                  Q4        2014  \n",
              "5                  Q4        2014  \n",
              "6                  Q4        2012  \n",
              "7                  Q4        2013  \n",
              "...               ...         ...  \n",
              "51138              Q4        2013  \n",
              "51151              Q4        2012  \n",
              "51192              Q4        2012  \n",
              "51193              Q4        2013  \n",
              "51265              Q4        2014  \n",
              "\n",
              "[5354 rows x 31 columns]"
            ]
          },
          "metadata": {},
          "output_type": "display_data"
        }
      ],
      "source": [
        "selected_orders = df[(df['Profit'] > 100) & (df['Discount'] < 0.2)]\n",
        "display(selected_orders)"
      ]
    },
    {
      "cell_type": "code",
      "execution_count": 41,
      "metadata": {
        "colab": {
          "base_uri": "https://localhost:8080/"
        },
        "id": "c21ddb4b",
        "outputId": "f42678f8-c43c-4d33-cc57-4874cbb19538"
      },
      "outputs": [
        {
          "name": "stdout",
          "output_type": "stream",
          "text": [
            "Region\n",
            "Western Europe       1.731930e+06\n",
            "Central America      1.223101e+06\n",
            "Oceania              1.100185e+06\n",
            "Southeastern Asia    8.844232e+05\n",
            "Southern Asia        8.665727e+05\n",
            "Eastern Asia         8.550594e+05\n",
            "Western US           7.254578e+05\n",
            "Eastern US           6.787812e+05\n",
            "Northern Europe      6.367792e+05\n",
            "South America        6.172237e+05\n",
            "Southern Europe      6.085940e+05\n",
            "Central US           5.012399e+05\n",
            "Southern US          3.917219e+05\n",
            "Caribbean            3.242809e+05\n",
            "Western Asia         3.171070e+05\n",
            "Eastern Europe       3.100334e+05\n",
            "North Africa         2.332166e+05\n",
            "Western Africa       1.738788e+05\n",
            "Central Africa       1.436300e+05\n",
            "Eastern Africa       1.278560e+05\n",
            "Southern Africa      1.051918e+05\n",
            "Canada               6.692817e+04\n",
            "Central Asia         1.931146e+04\n",
            "Name: Sales, dtype: float64\n"
          ]
        }
      ],
      "source": [
        "region_sales = df.groupby('Region')['Sales'].sum().sort_values(ascending=False)\n",
        "print(region_sales)"
      ]
    },
    {
      "cell_type": "code",
      "execution_count": 42,
      "metadata": {
        "colab": {
          "base_uri": "https://localhost:8080/",
          "height": 272
        },
        "id": "GXzTneGAiAQl",
        "outputId": "bb254191-aacf-48ac-c30d-58ef358590d3"
      },
      "outputs": [
        {
          "data": {
            "text/plain": [
              "Region\n",
              "Western Europe       1.731930e+06\n",
              "Central America      1.223101e+06\n",
              "Oceania              1.100185e+06\n",
              "Southeastern Asia    8.844232e+05\n",
              "Southern Asia        8.665727e+05\n",
              "Name: Sales, dtype: float64"
            ]
          },
          "execution_count": 42,
          "metadata": {},
          "output_type": "execute_result"
        }
      ],
      "source": [
        "region_sales.head(5)"
      ]
    },
    {
      "cell_type": "code",
      "execution_count": 43,
      "metadata": {
        "colab": {
          "base_uri": "https://localhost:8080/",
          "height": 808
        },
        "id": "ae6c6262",
        "outputId": "92c270d9-a15d-40a9-c215-61ad20678895"
      },
      "outputs": [
        {
          "data": {
            "text/html": [
              "<div>\n",
              "<style scoped>\n",
              "    .dataframe tbody tr th:only-of-type {\n",
              "        vertical-align: middle;\n",
              "    }\n",
              "\n",
              "    .dataframe tbody tr th {\n",
              "        vertical-align: top;\n",
              "    }\n",
              "\n",
              "    .dataframe thead th {\n",
              "        text-align: right;\n",
              "    }\n",
              "</style>\n",
              "<table border=\"1\" class=\"dataframe\">\n",
              "  <thead>\n",
              "    <tr style=\"text-align: right;\">\n",
              "      <th></th>\n",
              "      <th>Row ID</th>\n",
              "      <th>Order ID</th>\n",
              "      <th>Order Date</th>\n",
              "      <th>Ship Date</th>\n",
              "      <th>Ship Mode</th>\n",
              "      <th>Customer ID</th>\n",
              "      <th>Customer Name</th>\n",
              "      <th>Segment</th>\n",
              "      <th>Postal Code</th>\n",
              "      <th>City</th>\n",
              "      <th>...</th>\n",
              "      <th>Profit</th>\n",
              "      <th>Shipping Cost</th>\n",
              "      <th>Order Priority</th>\n",
              "      <th>Order Year</th>\n",
              "      <th>Derivative_wrt_Profit</th>\n",
              "      <th>profit_margin</th>\n",
              "      <th>is_high_discount</th>\n",
              "      <th>is_profitable</th>\n",
              "      <th>Sales_Quartile</th>\n",
              "      <th>order_year</th>\n",
              "    </tr>\n",
              "  </thead>\n",
              "  <tbody>\n",
              "    <tr>\n",
              "      <th>65</th>\n",
              "      <td>32637</td>\n",
              "      <td>CA-2015-AS10045140-42007</td>\n",
              "      <td>2015-01-03</td>\n",
              "      <td>2015-01-05</td>\n",
              "      <td>First Class</td>\n",
              "      <td>AS-100451408</td>\n",
              "      <td>Aaron Smayling</td>\n",
              "      <td>Corporate</td>\n",
              "      <td>28540.0</td>\n",
              "      <td>Jacksonville</td>\n",
              "      <td>...</td>\n",
              "      <td>-27.8280</td>\n",
              "      <td>160.19</td>\n",
              "      <td>High</td>\n",
              "      <td>2015</td>\n",
              "      <td>0.143740</td>\n",
              "      <td>-4.000000</td>\n",
              "      <td>1</td>\n",
              "      <td>0</td>\n",
              "      <td>Q4</td>\n",
              "      <td>2015</td>\n",
              "    </tr>\n",
              "    <tr>\n",
              "      <th>73</th>\n",
              "      <td>21209</td>\n",
              "      <td>IN-2015-LA1678059-42242</td>\n",
              "      <td>2015-08-26</td>\n",
              "      <td>2015-08-27</td>\n",
              "      <td>First Class</td>\n",
              "      <td>LA-1678059</td>\n",
              "      <td>Laura Armstrong</td>\n",
              "      <td>Corporate</td>\n",
              "      <td>NaN</td>\n",
              "      <td>Palembang</td>\n",
              "      <td>...</td>\n",
              "      <td>-452.8104</td>\n",
              "      <td>586.57</td>\n",
              "      <td>High</td>\n",
              "      <td>2015</td>\n",
              "      <td>0.029179</td>\n",
              "      <td>-13.212449</td>\n",
              "      <td>1</td>\n",
              "      <td>0</td>\n",
              "      <td>Q4</td>\n",
              "      <td>2015</td>\n",
              "    </tr>\n",
              "    <tr>\n",
              "      <th>76</th>\n",
              "      <td>33130</td>\n",
              "      <td>CA-2015-AS10045140-42218</td>\n",
              "      <td>2015-08-02</td>\n",
              "      <td>2015-08-08</td>\n",
              "      <td>Standard Class</td>\n",
              "      <td>AS-100451402</td>\n",
              "      <td>Aaron Smayling</td>\n",
              "      <td>Corporate</td>\n",
              "      <td>78745.0</td>\n",
              "      <td>Austin</td>\n",
              "      <td>...</td>\n",
              "      <td>-263.9967</td>\n",
              "      <td>103.62</td>\n",
              "      <td>Medium</td>\n",
              "      <td>2015</td>\n",
              "      <td>0.069445</td>\n",
              "      <td>-18.333333</td>\n",
              "      <td>1</td>\n",
              "      <td>0</td>\n",
              "      <td>Q4</td>\n",
              "      <td>2015</td>\n",
              "    </tr>\n",
              "    <tr>\n",
              "      <th>83</th>\n",
              "      <td>40425</td>\n",
              "      <td>US-2015-AS10045140-42252</td>\n",
              "      <td>2015-09-05</td>\n",
              "      <td>2015-09-06</td>\n",
              "      <td>First Class</td>\n",
              "      <td>AS-100451404</td>\n",
              "      <td>Aaron Smayling</td>\n",
              "      <td>Corporate</td>\n",
              "      <td>97756.0</td>\n",
              "      <td>Redmond</td>\n",
              "      <td>...</td>\n",
              "      <td>-58.7160</td>\n",
              "      <td>23.88</td>\n",
              "      <td>High</td>\n",
              "      <td>2015</td>\n",
              "      <td>1.135409</td>\n",
              "      <td>-66.666667</td>\n",
              "      <td>1</td>\n",
              "      <td>0</td>\n",
              "      <td>Q3</td>\n",
              "      <td>2015</td>\n",
              "    </tr>\n",
              "    <tr>\n",
              "      <th>91</th>\n",
              "      <td>34336</td>\n",
              "      <td>CA-2015-AS10045140-42281</td>\n",
              "      <td>2015-10-04</td>\n",
              "      <td>2015-10-09</td>\n",
              "      <td>Standard Class</td>\n",
              "      <td>AS-100451404</td>\n",
              "      <td>Aaron Smayling</td>\n",
              "      <td>Corporate</td>\n",
              "      <td>91104.0</td>\n",
              "      <td>Pasadena</td>\n",
              "      <td>...</td>\n",
              "      <td>-6.4233</td>\n",
              "      <td>12.65</td>\n",
              "      <td>Medium</td>\n",
              "      <td>2015</td>\n",
              "      <td>0.583812</td>\n",
              "      <td>-3.750000</td>\n",
              "      <td>0</td>\n",
              "      <td>0</td>\n",
              "      <td>Q3</td>\n",
              "      <td>2015</td>\n",
              "    </tr>\n",
              "    <tr>\n",
              "      <th>...</th>\n",
              "      <td>...</td>\n",
              "      <td>...</td>\n",
              "      <td>...</td>\n",
              "      <td>...</td>\n",
              "      <td>...</td>\n",
              "      <td>...</td>\n",
              "      <td>...</td>\n",
              "      <td>...</td>\n",
              "      <td>...</td>\n",
              "      <td>...</td>\n",
              "      <td>...</td>\n",
              "      <td>...</td>\n",
              "      <td>...</td>\n",
              "      <td>...</td>\n",
              "      <td>...</td>\n",
              "      <td>...</td>\n",
              "      <td>...</td>\n",
              "      <td>...</td>\n",
              "      <td>...</td>\n",
              "      <td>...</td>\n",
              "      <td>...</td>\n",
              "    </tr>\n",
              "    <tr>\n",
              "      <th>51252</th>\n",
              "      <td>40220</td>\n",
              "      <td>CA-2015-ZC21910140-42167</td>\n",
              "      <td>2015-06-12</td>\n",
              "      <td>2015-06-18</td>\n",
              "      <td>Standard Class</td>\n",
              "      <td>ZC-219101408</td>\n",
              "      <td>Zuschuss Carroll</td>\n",
              "      <td>Consumer</td>\n",
              "      <td>28601.0</td>\n",
              "      <td>Hickory</td>\n",
              "      <td>...</td>\n",
              "      <td>-3.8100</td>\n",
              "      <td>1.28</td>\n",
              "      <td>Medium</td>\n",
              "      <td>2015</td>\n",
              "      <td>21.872266</td>\n",
              "      <td>-83.333333</td>\n",
              "      <td>1</td>\n",
              "      <td>0</td>\n",
              "      <td>Q1</td>\n",
              "      <td>2015</td>\n",
              "    </tr>\n",
              "    <tr>\n",
              "      <th>51256</th>\n",
              "      <td>29192</td>\n",
              "      <td>ID-2015-JE1561097-42193</td>\n",
              "      <td>2015-07-08</td>\n",
              "      <td>2015-07-13</td>\n",
              "      <td>Standard Class</td>\n",
              "      <td>JE-1561097</td>\n",
              "      <td>Jim Epp</td>\n",
              "      <td>Corporate</td>\n",
              "      <td>NaN</td>\n",
              "      <td>Lahore</td>\n",
              "      <td>...</td>\n",
              "      <td>-13.2600</td>\n",
              "      <td>1.04</td>\n",
              "      <td>Medium</td>\n",
              "      <td>2015</td>\n",
              "      <td>5.446623</td>\n",
              "      <td>-72.222222</td>\n",
              "      <td>1</td>\n",
              "      <td>0</td>\n",
              "      <td>Q1</td>\n",
              "      <td>2015</td>\n",
              "    </tr>\n",
              "    <tr>\n",
              "      <th>51257</th>\n",
              "      <td>35397</td>\n",
              "      <td>US-2015-ZC21910140-42175</td>\n",
              "      <td>2015-06-20</td>\n",
              "      <td>2015-06-24</td>\n",
              "      <td>Standard Class</td>\n",
              "      <td>ZC-219101402</td>\n",
              "      <td>Zuschuss Carroll</td>\n",
              "      <td>Consumer</td>\n",
              "      <td>77095.0</td>\n",
              "      <td>Houston</td>\n",
              "      <td>...</td>\n",
              "      <td>-5.2072</td>\n",
              "      <td>1.07</td>\n",
              "      <td>Medium</td>\n",
              "      <td>2015</td>\n",
              "      <td>44.169611</td>\n",
              "      <td>-230.000000</td>\n",
              "      <td>1</td>\n",
              "      <td>0</td>\n",
              "      <td>Q1</td>\n",
              "      <td>2015</td>\n",
              "    </tr>\n",
              "    <tr>\n",
              "      <th>51260</th>\n",
              "      <td>35398</td>\n",
              "      <td>US-2015-ZC21910140-42175</td>\n",
              "      <td>2015-06-20</td>\n",
              "      <td>2015-06-24</td>\n",
              "      <td>Standard Class</td>\n",
              "      <td>ZC-219101402</td>\n",
              "      <td>Zuschuss Carroll</td>\n",
              "      <td>Consumer</td>\n",
              "      <td>77095.0</td>\n",
              "      <td>Houston</td>\n",
              "      <td>...</td>\n",
              "      <td>-1.1100</td>\n",
              "      <td>1.01</td>\n",
              "      <td>Medium</td>\n",
              "      <td>2015</td>\n",
              "      <td>225.225225</td>\n",
              "      <td>-250.000000</td>\n",
              "      <td>1</td>\n",
              "      <td>0</td>\n",
              "      <td>Q1</td>\n",
              "      <td>2015</td>\n",
              "    </tr>\n",
              "    <tr>\n",
              "      <th>51277</th>\n",
              "      <td>46582</td>\n",
              "      <td>TU-2015-KF6285134-42337</td>\n",
              "      <td>2015-11-29</td>\n",
              "      <td>2015-11-30</td>\n",
              "      <td>First Class</td>\n",
              "      <td>KF-6285134</td>\n",
              "      <td>Karen Ferguson</td>\n",
              "      <td>Home Office</td>\n",
              "      <td>NaN</td>\n",
              "      <td>Midyat</td>\n",
              "      <td>...</td>\n",
              "      <td>-49.5720</td>\n",
              "      <td>1.02</td>\n",
              "      <td>Medium</td>\n",
              "      <td>2015</td>\n",
              "      <td>2.930145</td>\n",
              "      <td>-145.253165</td>\n",
              "      <td>1</td>\n",
              "      <td>0</td>\n",
              "      <td>Q2</td>\n",
              "      <td>2015</td>\n",
              "    </tr>\n",
              "  </tbody>\n",
              "</table>\n",
              "<p>4311 rows × 31 columns</p>\n",
              "</div>"
            ],
            "text/plain": [
              "       Row ID                  Order ID Order Date  Ship Date       Ship Mode  \\\n",
              "65      32637  CA-2015-AS10045140-42007 2015-01-03 2015-01-05     First Class   \n",
              "73      21209   IN-2015-LA1678059-42242 2015-08-26 2015-08-27     First Class   \n",
              "76      33130  CA-2015-AS10045140-42218 2015-08-02 2015-08-08  Standard Class   \n",
              "83      40425  US-2015-AS10045140-42252 2015-09-05 2015-09-06     First Class   \n",
              "91      34336  CA-2015-AS10045140-42281 2015-10-04 2015-10-09  Standard Class   \n",
              "...       ...                       ...        ...        ...             ...   \n",
              "51252   40220  CA-2015-ZC21910140-42167 2015-06-12 2015-06-18  Standard Class   \n",
              "51256   29192   ID-2015-JE1561097-42193 2015-07-08 2015-07-13  Standard Class   \n",
              "51257   35397  US-2015-ZC21910140-42175 2015-06-20 2015-06-24  Standard Class   \n",
              "51260   35398  US-2015-ZC21910140-42175 2015-06-20 2015-06-24  Standard Class   \n",
              "51277   46582   TU-2015-KF6285134-42337 2015-11-29 2015-11-30     First Class   \n",
              "\n",
              "        Customer ID     Customer Name      Segment  Postal Code          City  \\\n",
              "65     AS-100451408    Aaron Smayling    Corporate      28540.0  Jacksonville   \n",
              "73       LA-1678059   Laura Armstrong    Corporate          NaN     Palembang   \n",
              "76     AS-100451402    Aaron Smayling    Corporate      78745.0        Austin   \n",
              "83     AS-100451404    Aaron Smayling    Corporate      97756.0       Redmond   \n",
              "91     AS-100451404    Aaron Smayling    Corporate      91104.0      Pasadena   \n",
              "...             ...               ...          ...          ...           ...   \n",
              "51252  ZC-219101408  Zuschuss Carroll     Consumer      28601.0       Hickory   \n",
              "51256    JE-1561097           Jim Epp    Corporate          NaN        Lahore   \n",
              "51257  ZC-219101402  Zuschuss Carroll     Consumer      77095.0       Houston   \n",
              "51260  ZC-219101402  Zuschuss Carroll     Consumer      77095.0       Houston   \n",
              "51277    KF-6285134    Karen Ferguson  Home Office          NaN        Midyat   \n",
              "\n",
              "       ...    Profit Shipping Cost Order Priority Order Year  \\\n",
              "65     ...  -27.8280        160.19           High       2015   \n",
              "73     ... -452.8104        586.57           High       2015   \n",
              "76     ... -263.9967        103.62         Medium       2015   \n",
              "83     ...  -58.7160         23.88           High       2015   \n",
              "91     ...   -6.4233         12.65         Medium       2015   \n",
              "...    ...       ...           ...            ...        ...   \n",
              "51252  ...   -3.8100          1.28         Medium       2015   \n",
              "51256  ...  -13.2600          1.04         Medium       2015   \n",
              "51257  ...   -5.2072          1.07         Medium       2015   \n",
              "51260  ...   -1.1100          1.01         Medium       2015   \n",
              "51277  ...  -49.5720          1.02         Medium       2015   \n",
              "\n",
              "      Derivative_wrt_Profit profit_margin is_high_discount is_profitable  \\\n",
              "65                 0.143740     -4.000000                1             0   \n",
              "73                 0.029179    -13.212449                1             0   \n",
              "76                 0.069445    -18.333333                1             0   \n",
              "83                 1.135409    -66.666667                1             0   \n",
              "91                 0.583812     -3.750000                0             0   \n",
              "...                     ...           ...              ...           ...   \n",
              "51252             21.872266    -83.333333                1             0   \n",
              "51256              5.446623    -72.222222                1             0   \n",
              "51257             44.169611   -230.000000                1             0   \n",
              "51260            225.225225   -250.000000                1             0   \n",
              "51277              2.930145   -145.253165                1             0   \n",
              "\n",
              "       Sales_Quartile  order_year  \n",
              "65                 Q4        2015  \n",
              "73                 Q4        2015  \n",
              "76                 Q4        2015  \n",
              "83                 Q3        2015  \n",
              "91                 Q3        2015  \n",
              "...               ...         ...  \n",
              "51252              Q1        2015  \n",
              "51256              Q1        2015  \n",
              "51257              Q1        2015  \n",
              "51260              Q1        2015  \n",
              "51277              Q2        2015  \n",
              "\n",
              "[4311 rows x 31 columns]"
            ]
          },
          "metadata": {},
          "output_type": "display_data"
        }
      ],
      "source": [
        "orders_2015_negative_profit = df[(df['order_year'] == 2015) & (df['Profit'] < 0)]\n",
        "display(orders_2015_negative_profit)"
      ]
    },
    {
      "cell_type": "code",
      "execution_count": 44,
      "metadata": {
        "colab": {
          "base_uri": "https://localhost:8080/",
          "height": 776
        },
        "id": "68496a6a",
        "outputId": "cc23229d-c8e7-45cf-ceca-dff4e78eb286"
      },
      "outputs": [
        {
          "data": {
            "text/html": [
              "<div>\n",
              "<style scoped>\n",
              "    .dataframe tbody tr th:only-of-type {\n",
              "        vertical-align: middle;\n",
              "    }\n",
              "\n",
              "    .dataframe tbody tr th {\n",
              "        vertical-align: top;\n",
              "    }\n",
              "\n",
              "    .dataframe thead th {\n",
              "        text-align: right;\n",
              "    }\n",
              "</style>\n",
              "<table border=\"1\" class=\"dataframe\">\n",
              "  <thead>\n",
              "    <tr style=\"text-align: right;\">\n",
              "      <th></th>\n",
              "      <th>Row ID</th>\n",
              "      <th>Order ID</th>\n",
              "      <th>Order Date</th>\n",
              "      <th>Ship Date</th>\n",
              "      <th>Ship Mode</th>\n",
              "      <th>Customer ID</th>\n",
              "      <th>Customer Name</th>\n",
              "      <th>Segment</th>\n",
              "      <th>Postal Code</th>\n",
              "      <th>City</th>\n",
              "      <th>...</th>\n",
              "      <th>Profit</th>\n",
              "      <th>Shipping Cost</th>\n",
              "      <th>Order Priority</th>\n",
              "      <th>Order Year</th>\n",
              "      <th>Derivative_wrt_Profit</th>\n",
              "      <th>profit_margin</th>\n",
              "      <th>is_high_discount</th>\n",
              "      <th>is_profitable</th>\n",
              "      <th>Sales_Quartile</th>\n",
              "      <th>order_year</th>\n",
              "    </tr>\n",
              "  </thead>\n",
              "  <tbody>\n",
              "    <tr>\n",
              "      <th>49003</th>\n",
              "      <td>38123</td>\n",
              "      <td>CA-2014-TC20980140-41915</td>\n",
              "      <td>2014-10-03</td>\n",
              "      <td>2014-10-10</td>\n",
              "      <td>Standard Class</td>\n",
              "      <td>TC-209801402</td>\n",
              "      <td>Tamara Chand</td>\n",
              "      <td>Corporate</td>\n",
              "      <td>47905.0</td>\n",
              "      <td>Lafayette</td>\n",
              "      <td>...</td>\n",
              "      <td>8399.9760</td>\n",
              "      <td>349.07</td>\n",
              "      <td>Medium</td>\n",
              "      <td>2014</td>\n",
              "      <td>0.005714</td>\n",
              "      <td>48.000000</td>\n",
              "      <td>0</td>\n",
              "      <td>1</td>\n",
              "      <td>Q4</td>\n",
              "      <td>2014</td>\n",
              "    </tr>\n",
              "    <tr>\n",
              "      <th>6422</th>\n",
              "      <td>35574</td>\n",
              "      <td>US-2014-BS11365140-41746</td>\n",
              "      <td>2014-04-17</td>\n",
              "      <td>2014-04-21</td>\n",
              "      <td>Standard Class</td>\n",
              "      <td>BS-113651406</td>\n",
              "      <td>Bill Shonely</td>\n",
              "      <td>Corporate</td>\n",
              "      <td>8701.0</td>\n",
              "      <td>Lakewood</td>\n",
              "      <td>...</td>\n",
              "      <td>2365.9818</td>\n",
              "      <td>516.91</td>\n",
              "      <td>Medium</td>\n",
              "      <td>2014</td>\n",
              "      <td>0.010989</td>\n",
              "      <td>26.000000</td>\n",
              "      <td>0</td>\n",
              "      <td>1</td>\n",
              "      <td>Q4</td>\n",
              "      <td>2014</td>\n",
              "    </tr>\n",
              "    <tr>\n",
              "      <th>23110</th>\n",
              "      <td>31980</td>\n",
              "      <td>US-2015-GT14635140-42313</td>\n",
              "      <td>2015-11-05</td>\n",
              "      <td>2015-11-05</td>\n",
              "      <td>Same Day</td>\n",
              "      <td>GT-146351408</td>\n",
              "      <td>Grant Thornton</td>\n",
              "      <td>Corporate</td>\n",
              "      <td>27217.0</td>\n",
              "      <td>Burlington</td>\n",
              "      <td>...</td>\n",
              "      <td>-3839.9904</td>\n",
              "      <td>674.82</td>\n",
              "      <td>High</td>\n",
              "      <td>2015</td>\n",
              "      <td>0.012500</td>\n",
              "      <td>-48.000000</td>\n",
              "      <td>1</td>\n",
              "      <td>0</td>\n",
              "      <td>Q4</td>\n",
              "      <td>2015</td>\n",
              "    </tr>\n",
              "    <tr>\n",
              "      <th>17</th>\n",
              "      <td>12069</td>\n",
              "      <td>ES-2015-PJ1883564-42255</td>\n",
              "      <td>2015-09-08</td>\n",
              "      <td>2015-09-14</td>\n",
              "      <td>Standard Class</td>\n",
              "      <td>PJ-1883564</td>\n",
              "      <td>Patrick Jones</td>\n",
              "      <td>Corporate</td>\n",
              "      <td>NaN</td>\n",
              "      <td>Prato</td>\n",
              "      <td>...</td>\n",
              "      <td>3979.0800</td>\n",
              "      <td>778.32</td>\n",
              "      <td>Low</td>\n",
              "      <td>2015</td>\n",
              "      <td>0.012565</td>\n",
              "      <td>49.997361</td>\n",
              "      <td>0</td>\n",
              "      <td>1</td>\n",
              "      <td>Q4</td>\n",
              "      <td>2015</td>\n",
              "    </tr>\n",
              "    <tr>\n",
              "      <th>215</th>\n",
              "      <td>27720</td>\n",
              "      <td>ID-2012-CA1196566-40949</td>\n",
              "      <td>2012-02-10</td>\n",
              "      <td>2012-02-15</td>\n",
              "      <td>Standard Class</td>\n",
              "      <td>CA-1196566</td>\n",
              "      <td>Carol Adams</td>\n",
              "      <td>Corporate</td>\n",
              "      <td>NaN</td>\n",
              "      <td>Fuji</td>\n",
              "      <td>...</td>\n",
              "      <td>2939.3100</td>\n",
              "      <td>413.80</td>\n",
              "      <td>Medium</td>\n",
              "      <td>2012</td>\n",
              "      <td>0.014288</td>\n",
              "      <td>41.998303</td>\n",
              "      <td>0</td>\n",
              "      <td>1</td>\n",
              "      <td>Q4</td>\n",
              "      <td>2012</td>\n",
              "    </tr>\n",
              "    <tr>\n",
              "      <th>11246</th>\n",
              "      <td>13560</td>\n",
              "      <td>ES-2012-ER13855120-41159</td>\n",
              "      <td>2012-09-07</td>\n",
              "      <td>2012-09-10</td>\n",
              "      <td>Second Class</td>\n",
              "      <td>ER-13855120</td>\n",
              "      <td>Elpida Rittenbach</td>\n",
              "      <td>Corporate</td>\n",
              "      <td>NaN</td>\n",
              "      <td>Lugo</td>\n",
              "      <td>...</td>\n",
              "      <td>2476.4400</td>\n",
              "      <td>28.74</td>\n",
              "      <td>Critical</td>\n",
              "      <td>2012</td>\n",
              "      <td>0.015344</td>\n",
              "      <td>37.999227</td>\n",
              "      <td>0</td>\n",
              "      <td>1</td>\n",
              "      <td>Q4</td>\n",
              "      <td>2012</td>\n",
              "    </tr>\n",
              "    <tr>\n",
              "      <th>4605</th>\n",
              "      <td>19688</td>\n",
              "      <td>IT-2014-ML17395120-41794</td>\n",
              "      <td>2014-06-04</td>\n",
              "      <td>2014-06-07</td>\n",
              "      <td>Second Class</td>\n",
              "      <td>ML-17395120</td>\n",
              "      <td>Marina Lichtenstein</td>\n",
              "      <td>Corporate</td>\n",
              "      <td>NaN</td>\n",
              "      <td>Valladolid</td>\n",
              "      <td>...</td>\n",
              "      <td>-445.4400</td>\n",
              "      <td>71.46</td>\n",
              "      <td>Critical</td>\n",
              "      <td>2014</td>\n",
              "      <td>0.017464</td>\n",
              "      <td>-7.779035</td>\n",
              "      <td>0</td>\n",
              "      <td>0</td>\n",
              "      <td>Q4</td>\n",
              "      <td>2014</td>\n",
              "    </tr>\n",
              "    <tr>\n",
              "      <th>42</th>\n",
              "      <td>25795</td>\n",
              "      <td>IN-2015-VG2180558-42273</td>\n",
              "      <td>2015-09-26</td>\n",
              "      <td>2015-09-28</td>\n",
              "      <td>Second Class</td>\n",
              "      <td>VG-2180558</td>\n",
              "      <td>Vivek Grady</td>\n",
              "      <td>Corporate</td>\n",
              "      <td>NaN</td>\n",
              "      <td>Thiruvananthapuram</td>\n",
              "      <td>...</td>\n",
              "      <td>2097.0300</td>\n",
              "      <td>658.35</td>\n",
              "      <td>Medium</td>\n",
              "      <td>2015</td>\n",
              "      <td>0.017643</td>\n",
              "      <td>36.998555</td>\n",
              "      <td>0</td>\n",
              "      <td>1</td>\n",
              "      <td>Q4</td>\n",
              "      <td>2015</td>\n",
              "    </tr>\n",
              "    <tr>\n",
              "      <th>81</th>\n",
              "      <td>50788</td>\n",
              "      <td>MO-2015-DP310586-42305</td>\n",
              "      <td>2015-10-28</td>\n",
              "      <td>2015-10-30</td>\n",
              "      <td>Second Class</td>\n",
              "      <td>DP-310586</td>\n",
              "      <td>Dave Poirier</td>\n",
              "      <td>Corporate</td>\n",
              "      <td>NaN</td>\n",
              "      <td>Meknes</td>\n",
              "      <td>...</td>\n",
              "      <td>2597.2800</td>\n",
              "      <td>568.45</td>\n",
              "      <td>Medium</td>\n",
              "      <td>2015</td>\n",
              "      <td>0.018864</td>\n",
              "      <td>48.993820</td>\n",
              "      <td>0</td>\n",
              "      <td>1</td>\n",
              "      <td>Q4</td>\n",
              "      <td>2015</td>\n",
              "    </tr>\n",
              "    <tr>\n",
              "      <th>49895</th>\n",
              "      <td>37637</td>\n",
              "      <td>CA-2015-TS21370140-42283</td>\n",
              "      <td>2015-10-06</td>\n",
              "      <td>2015-10-10</td>\n",
              "      <td>Standard Class</td>\n",
              "      <td>TS-213701406</td>\n",
              "      <td>Todd Sumrall</td>\n",
              "      <td>Corporate</td>\n",
              "      <td>10035.0</td>\n",
              "      <td>New York City</td>\n",
              "      <td>...</td>\n",
              "      <td>1351.9896</td>\n",
              "      <td>212.76</td>\n",
              "      <td>Medium</td>\n",
              "      <td>2015</td>\n",
              "      <td>0.019231</td>\n",
              "      <td>26.000000</td>\n",
              "      <td>0</td>\n",
              "      <td>1</td>\n",
              "      <td>Q4</td>\n",
              "      <td>2015</td>\n",
              "    </tr>\n",
              "  </tbody>\n",
              "</table>\n",
              "<p>10 rows × 31 columns</p>\n",
              "</div>"
            ],
            "text/plain": [
              "       Row ID                  Order ID Order Date  Ship Date       Ship Mode  \\\n",
              "49003   38123  CA-2014-TC20980140-41915 2014-10-03 2014-10-10  Standard Class   \n",
              "6422    35574  US-2014-BS11365140-41746 2014-04-17 2014-04-21  Standard Class   \n",
              "23110   31980  US-2015-GT14635140-42313 2015-11-05 2015-11-05        Same Day   \n",
              "17      12069   ES-2015-PJ1883564-42255 2015-09-08 2015-09-14  Standard Class   \n",
              "215     27720   ID-2012-CA1196566-40949 2012-02-10 2012-02-15  Standard Class   \n",
              "11246   13560  ES-2012-ER13855120-41159 2012-09-07 2012-09-10    Second Class   \n",
              "4605    19688  IT-2014-ML17395120-41794 2014-06-04 2014-06-07    Second Class   \n",
              "42      25795   IN-2015-VG2180558-42273 2015-09-26 2015-09-28    Second Class   \n",
              "81      50788    MO-2015-DP310586-42305 2015-10-28 2015-10-30    Second Class   \n",
              "49895   37637  CA-2015-TS21370140-42283 2015-10-06 2015-10-10  Standard Class   \n",
              "\n",
              "        Customer ID        Customer Name    Segment  Postal Code  \\\n",
              "49003  TC-209801402         Tamara Chand  Corporate      47905.0   \n",
              "6422   BS-113651406         Bill Shonely  Corporate       8701.0   \n",
              "23110  GT-146351408       Grant Thornton  Corporate      27217.0   \n",
              "17       PJ-1883564        Patrick Jones  Corporate          NaN   \n",
              "215      CA-1196566          Carol Adams  Corporate          NaN   \n",
              "11246   ER-13855120    Elpida Rittenbach  Corporate          NaN   \n",
              "4605    ML-17395120  Marina Lichtenstein  Corporate          NaN   \n",
              "42       VG-2180558          Vivek Grady  Corporate          NaN   \n",
              "81        DP-310586         Dave Poirier  Corporate          NaN   \n",
              "49895  TS-213701406         Todd Sumrall  Corporate      10035.0   \n",
              "\n",
              "                     City  ...     Profit Shipping Cost Order Priority  \\\n",
              "49003           Lafayette  ...  8399.9760        349.07         Medium   \n",
              "6422             Lakewood  ...  2365.9818        516.91         Medium   \n",
              "23110          Burlington  ... -3839.9904        674.82           High   \n",
              "17                  Prato  ...  3979.0800        778.32            Low   \n",
              "215                  Fuji  ...  2939.3100        413.80         Medium   \n",
              "11246                Lugo  ...  2476.4400         28.74       Critical   \n",
              "4605           Valladolid  ...  -445.4400         71.46       Critical   \n",
              "42     Thiruvananthapuram  ...  2097.0300        658.35         Medium   \n",
              "81                 Meknes  ...  2597.2800        568.45         Medium   \n",
              "49895       New York City  ...  1351.9896        212.76         Medium   \n",
              "\n",
              "      Order Year Derivative_wrt_Profit profit_margin is_high_discount  \\\n",
              "49003       2014              0.005714     48.000000                0   \n",
              "6422        2014              0.010989     26.000000                0   \n",
              "23110       2015              0.012500    -48.000000                1   \n",
              "17          2015              0.012565     49.997361                0   \n",
              "215         2012              0.014288     41.998303                0   \n",
              "11246       2012              0.015344     37.999227                0   \n",
              "4605        2014              0.017464     -7.779035                0   \n",
              "42          2015              0.017643     36.998555                0   \n",
              "81          2015              0.018864     48.993820                0   \n",
              "49895       2015              0.019231     26.000000                0   \n",
              "\n",
              "      is_profitable  Sales_Quartile  order_year  \n",
              "49003             1              Q4        2014  \n",
              "6422              1              Q4        2014  \n",
              "23110             0              Q4        2015  \n",
              "17                1              Q4        2015  \n",
              "215               1              Q4        2012  \n",
              "11246             1              Q4        2012  \n",
              "4605              0              Q4        2014  \n",
              "42                1              Q4        2015  \n",
              "81                1              Q4        2015  \n",
              "49895             1              Q4        2015  \n",
              "\n",
              "[10 rows x 31 columns]"
            ]
          },
          "metadata": {},
          "output_type": "display_data"
        }
      ],
      "source": [
        "corporate_orders = df[df['Segment'] == 'Corporate']\n",
        "top_10_corporate_sales = corporate_orders.sort_values(by='Sales', ascending=False).head(10)\n",
        "display(top_10_corporate_sales)"
      ]
    },
    {
      "cell_type": "code",
      "execution_count": 45,
      "metadata": {
        "colab": {
          "base_uri": "https://localhost:8080/"
        },
        "id": "e66a7232",
        "outputId": "176dcf19-204c-4f32-b066-3c5298b2dccb"
      },
      "outputs": [
        {
          "name": "stdout",
          "output_type": "stream",
          "text": [
            "Ship Mode\n",
            "Standard Class    30775\n",
            "Second Class      10309\n",
            "First Class        7505\n",
            "Same Day           2701\n",
            "Name: count, dtype: int64\n"
          ]
        }
      ],
      "source": [
        "shipping_mode_counts = df['Ship Mode'].value_counts()\n",
        "print(shipping_mode_counts)"
      ]
    },
    {
      "cell_type": "markdown",
      "metadata": {
        "id": "r952p-iKlQmh"
      },
      "source": [
        "Part 8"
      ]
    },
    {
      "cell_type": "code",
      "execution_count": 46,
      "metadata": {
        "colab": {
          "base_uri": "https://localhost:8080/",
          "height": 54
        },
        "id": "lRDnrY7JlQUF",
        "outputId": "b848ec36-a63a-4ca0-89b5-311b2d02a53b"
      },
      "outputs": [
        {
          "data": {
            "text/plain": [
              "'The country which has the highest sales is: United States'"
            ]
          },
          "metadata": {},
          "output_type": "display_data"
        },
        {
          "data": {
            "text/plain": [
              "'The category with the highest sales is: 22638.48'"
            ]
          },
          "metadata": {},
          "output_type": "display_data"
        }
      ],
      "source": [
        "most_sales_country=df.groupby('Country')['Sales'].sum().idxmax()\n",
        "total_sales=df.groupby('Sales')['Sales'].sum().idxmax()\n",
        "display(f\"The country which has the highest sales is: {most_sales_country}\")\n",
        "display(f\"The category with the highest sales is: {total_sales}\")\n"
      ]
    },
    {
      "cell_type": "code",
      "execution_count": 47,
      "metadata": {
        "colab": {
          "base_uri": "https://localhost:8080/",
          "height": 36
        },
        "id": "yKUV2nYhmaas",
        "outputId": "5d89fd3c-fbe5-47c4-fe0a-0df10c594934"
      },
      "outputs": [
        {
          "data": {
            "text/plain": [
              "'The category with the highest average sales is: Technology'"
            ]
          },
          "metadata": {},
          "output_type": "display_data"
        }
      ],
      "source": [
        "most_avg=df.groupby('Category')['Profit'].mean().idxmax()\n",
        "display(f\"The category with the highest average sales is: {most_avg}\")"
      ]
    },
    {
      "cell_type": "code",
      "execution_count": 48,
      "metadata": {
        "colab": {
          "base_uri": "https://localhost:8080/"
        },
        "id": "433b5923",
        "outputId": "652eaf36-67ca-48b3-9b9f-4ce63ca17187"
      },
      "outputs": [
        {
          "name": "stdout",
          "output_type": "stream",
          "text": [
            "Average Profit for orders with low discount (is_high_discount = 0):\n",
            "55.24160778079113\n",
            "\n",
            "Average Profit for orders with high discount (is_high_discount = 1):\n",
            "-76.58782681015346\n"
          ]
        }
      ],
      "source": [
        "average_profit_by_discount = df.groupby('is_high_discount')['Profit'].mean()\n",
        "\n",
        "print(\"Average Profit for orders with low discount (is_high_discount = 0):\")\n",
        "print(average_profit_by_discount[0])\n",
        "\n",
        "print(\"\\nAverage Profit for orders with high discount (is_high_discount = 1):\")\n",
        "print(average_profit_by_discount[1])"
      ]
    },
    {
      "cell_type": "code",
      "execution_count": 49,
      "metadata": {
        "colab": {
          "base_uri": "https://localhost:8080/"
        },
        "id": "7c3556bd",
        "outputId": "f671d475-0c1c-4eb2-c45d-7e2be8f51893"
      },
      "outputs": [
        {
          "name": "stdout",
          "output_type": "stream",
          "text": [
            "The region with the highest sales is: Western Europe\n",
            "The highest regional sales amount is: 1731929.67\n"
          ]
        }
      ],
      "source": [
        "region_sales = df.groupby('Region')['Sales'].sum()\n",
        "region_with_highest_sales = region_sales.idxmax()\n",
        "highest_regional_sales_amount = region_sales.max()\n",
        "\n",
        "print(f\"The region with the highest sales is: {region_with_highest_sales}\")\n",
        "print(f\"The highest regional sales amount is: {highest_regional_sales_amount:.2f}\")"
      ]
    },
    {
      "cell_type": "code",
      "execution_count": 50,
      "metadata": {
        "colab": {
          "base_uri": "https://localhost:8080/"
        },
        "id": "205fc23b",
        "outputId": "bdd6ed78-8bd8-4fc0-e92a-205603263e0a"
      },
      "outputs": [
        {
          "name": "stdout",
          "output_type": "stream",
          "text": [
            "The correlation between Sales and Profit is: 0.48\n"
          ]
        }
      ],
      "source": [
        "correlation_sales_profit = df['Sales'].corr(df['Profit'])\n",
        "print(f\"The correlation between Sales and Profit is: {correlation_sales_profit:.2f}\")"
      ]
    },
    {
      "cell_type": "code",
      "execution_count": 51,
      "metadata": {
        "colab": {
          "base_uri": "https://localhost:8080/",
          "height": 36
        },
        "id": "zpkzIR2NoyCI",
        "outputId": "af42fb2f-7234-4f25-99b2-33924dd8132a"
      },
      "outputs": [
        {
          "data": {
            "text/plain": [
              "'The year with the highest sales is: 2015'"
            ]
          },
          "metadata": {},
          "output_type": "display_data"
        }
      ],
      "source": [
        "highest_sales_year=df.groupby('Order Year')['Sales'].sum().idxmax()\n",
        "display(f\"The year with the highest sales is: {highest_sales_year}\")"
      ]
    },
    {
      "cell_type": "code",
      "execution_count": 52,
      "metadata": {
        "colab": {
          "base_uri": "https://localhost:8080/"
        },
        "id": "d2f0fcc0",
        "outputId": "e8e3a886-0786-4d88-bbcd-72c3ed9b2a8a"
      },
      "outputs": [
        {
          "name": "stdout",
          "output_type": "stream",
          "text": [
            "The number of orders with negative profit is: 12544\n",
            "The total number of orders is: 51290\n",
            "The percentage of orders with negative profit is: 24.46%\n"
          ]
        }
      ],
      "source": [
        "orders_with_negative_profit = df[df['Profit'] < 0].shape[0]\n",
        "total_orders = df.shape[0]\n",
        "percentage_negative_profit = (orders_with_negative_profit / total_orders) * 100\n",
        "\n",
        "print(f\"The number of orders with negative profit is: {orders_with_negative_profit}\")\n",
        "print(f\"The total number of orders is: {total_orders}\")\n",
        "print(f\"The percentage of orders with negative profit is: {percentage_negative_profit:.2f}%\")"
      ]
    }
  ],
  "metadata": {
    "colab": {
      "provenance": []
    },
    "kernelspec": {
      "display_name": "venv",
      "language": "python",
      "name": "python3"
    },
    "language_info": {
      "codemirror_mode": {
        "name": "ipython",
        "version": 3
      },
      "file_extension": ".py",
      "mimetype": "text/x-python",
      "name": "python",
      "nbconvert_exporter": "python",
      "pygments_lexer": "ipython3",
      "version": "3.12.0"
    }
  },
  "nbformat": 4,
  "nbformat_minor": 0
}
